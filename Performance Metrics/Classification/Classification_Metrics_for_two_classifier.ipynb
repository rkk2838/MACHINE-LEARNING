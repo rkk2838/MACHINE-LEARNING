{
  "nbformat": 4,
  "nbformat_minor": 0,
  "metadata": {
    "colab": {
      "provenance": []
    },
    "kernelspec": {
      "name": "python3",
      "display_name": "Python 3"
    },
    "language_info": {
      "name": "python"
    }
  },
  "cells": [
    {
      "cell_type": "markdown",
      "source": [
        "# Classification Metrics when we have to compare the two or more classifier"
      ],
      "metadata": {
        "id": "icVrGXDaVEgk"
      }
    },
    {
      "cell_type": "code",
      "execution_count": 75,
      "metadata": {
        "id": "UykHeMamAMN3"
      },
      "outputs": [],
      "source": [
        "# Standard Libraries\n",
        "import pandas as pd\n",
        "import numpy as np\n",
        "import matplotlib.pyplot as plt\n",
        "import seaborn as sns\n",
        "\n",
        "# Collection Libraries\n",
        "from collections import Counter\n",
        "\n",
        "# Preprocessing Libraries\n",
        "from sklearn.datasets import make_classification\n",
        "from sklearn.model_selection import train_test_split\n",
        "\n",
        "# Algorithm Libraries\n",
        "from sklearn.linear_model import LogisticRegression\n",
        "\n",
        "# Metrics Libraries\n",
        "from sklearn.metrics import confusion_matrix,accuracy_score,precision_score,recall_score\n",
        "from sklearn.metrics import precision_recall_curve,plot_confusion_matrix,roc_auc_score"
      ]
    },
    {
      "cell_type": "code",
      "source": [
        "# Create a dataset of 10000 dataset\n",
        "X,y = make_classification(n_samples=10000,random_state=32,weights=[.70])\n",
        "print(X.shape,y.shape)\n",
        "print(Counter(y))"
      ],
      "metadata": {
        "colab": {
          "base_uri": "https://localhost:8080/"
        },
        "id": "sV0H_OKBAXYQ",
        "outputId": "78659361-5cbb-4554-f1cd-56ec7a0d53e3"
      },
      "execution_count": 27,
      "outputs": [
        {
          "output_type": "stream",
          "name": "stdout",
          "text": [
            "(10000, 20) (10000,)\n",
            "Counter({0: 6980, 1: 3020})\n"
          ]
        }
      ]
    },
    {
      "cell_type": "code",
      "source": [
        "# Splitting the dataset\n",
        "Xtrain , Xtest, ytrain,ytest = train_test_split(X,y,test_size = .2 , random_state=34,stratify=y)\n",
        "print(Xtrain.shape , Xtest.shape, ytrain.shape,ytest.shape)"
      ],
      "metadata": {
        "colab": {
          "base_uri": "https://localhost:8080/"
        },
        "id": "rCM9qsmIBV5F",
        "outputId": "87e2bb9e-bbbb-4448-cf3e-d42c23448941"
      },
      "execution_count": 28,
      "outputs": [
        {
          "output_type": "stream",
          "name": "stdout",
          "text": [
            "(8000, 20) (2000, 20) (8000,) (2000,)\n"
          ]
        }
      ]
    },
    {
      "cell_type": "code",
      "source": [],
      "metadata": {
        "id": "KYeLZNS9BpoO"
      },
      "execution_count": 28,
      "outputs": []
    },
    {
      "cell_type": "markdown",
      "source": [
        "## Model Training"
      ],
      "metadata": {
        "id": "6djn9AlDBvGt"
      }
    },
    {
      "cell_type": "markdown",
      "source": [
        "### Logistic Regression"
      ],
      "metadata": {
        "id": "v2IMVPOCGaTk"
      }
    },
    {
      "cell_type": "code",
      "source": [
        "# importing the logistic Regression\n",
        "clf1 = LogisticRegression()\n",
        "# fitting the model\n",
        "clf1.fit(Xtrain,ytrain)\n",
        "# getting the predict proba\n",
        "ypred_proba1 = clf1.predict_proba(Xtest)\n",
        "# predicting the result\n",
        "ypred1 = clf1.predict(Xtest)\n",
        "\n",
        "print(ypred1)\n",
        "print(ypred_proba1[:,1])"
      ],
      "metadata": {
        "colab": {
          "base_uri": "https://localhost:8080/"
        },
        "id": "gt3ll2_XBxU2",
        "outputId": "28a0fdc2-e2cd-4e83-c80a-f8e8e70710c2"
      },
      "execution_count": 29,
      "outputs": [
        {
          "output_type": "stream",
          "name": "stdout",
          "text": [
            "[1 0 0 ... 0 0 0]\n",
            "[0.97992682 0.0250974  0.00851189 ... 0.00298158 0.04127374 0.06017939]\n"
          ]
        }
      ]
    },
    {
      "cell_type": "code",
      "source": [
        "# ypred11 represent that it the prediction of the logistic regression when threshold is set different than the default here it is 0.7\n",
        "ypred11 = np.array([0 if i<=0.7 else 1 for i in ypred_proba1[:,1]])\n",
        "print(ypred11)"
      ],
      "metadata": {
        "colab": {
          "base_uri": "https://localhost:8080/"
        },
        "id": "mGqtHwLVIl5v",
        "outputId": "119bd177-6542-4370-9c3f-57fb891803a9"
      },
      "execution_count": 30,
      "outputs": [
        {
          "output_type": "stream",
          "name": "stdout",
          "text": [
            "[1 0 0 ... 0 0 0]\n"
          ]
        }
      ]
    },
    {
      "cell_type": "markdown",
      "source": [
        "### KNN"
      ],
      "metadata": {
        "id": "-sXRuDleHX2i"
      }
    },
    {
      "cell_type": "code",
      "source": [
        "from sklearn.neighbors import KNeighborsClassifier"
      ],
      "metadata": {
        "id": "rYz_y17MGWr2"
      },
      "execution_count": 31,
      "outputs": []
    },
    {
      "cell_type": "code",
      "source": [
        "# training the KNN model\n",
        "clf2 = KNeighborsClassifier()\n",
        "# fitting the model\n",
        "clf2.fit(Xtrain,ytrain)\n",
        "# getting the probability\n",
        "ypred_proba2 = clf2.predict_proba(Xtest)\n",
        "# Predicting the result\n",
        "ypred2 = clf2.predict(Xtest)\n",
        "\n",
        "print(ypred2)\n",
        "print(ypred_proba2[:,1])"
      ],
      "metadata": {
        "colab": {
          "base_uri": "https://localhost:8080/"
        },
        "id": "zJU2UIoFHflr",
        "outputId": "f6405ce2-6946-4932-802a-69a2a8c9c83a"
      },
      "execution_count": 32,
      "outputs": [
        {
          "output_type": "stream",
          "name": "stdout",
          "text": [
            "[1 0 0 ... 0 0 0]\n",
            "[1.  0.  0.  ... 0.2 0.2 0.2]\n"
          ]
        }
      ]
    },
    {
      "cell_type": "code",
      "source": [
        "ypred22 = np.array([0 if i<=0.7 else 1 for i in ypred_proba2[:,1]])\n",
        "print(ypred22)"
      ],
      "metadata": {
        "colab": {
          "base_uri": "https://localhost:8080/"
        },
        "id": "KR7dmfACIhS-",
        "outputId": "cefea48b-9292-47e5-aa41-d7f04569d4a3"
      },
      "execution_count": 33,
      "outputs": [
        {
          "output_type": "stream",
          "name": "stdout",
          "text": [
            "[1 0 0 ... 0 0 0]\n"
          ]
        }
      ]
    },
    {
      "cell_type": "code",
      "source": [],
      "metadata": {
        "id": "17UiVr7tJXdS"
      },
      "execution_count": 33,
      "outputs": []
    },
    {
      "cell_type": "markdown",
      "source": [
        "### Performance Measurement"
      ],
      "metadata": {
        "id": "b-6brbdNJ-Qt"
      }
    },
    {
      "cell_type": "markdown",
      "source": [
        "**Now we have Xtrain,ytrain,Xtest,ytest <br>\n",
        "From logistic regression we have : ypred1,ypred11<br>\n",
        "From KNN we have : ypred2,ypred22**"
      ],
      "metadata": {
        "id": "HHmJrOt5JZ2U"
      }
    },
    {
      "cell_type": "markdown",
      "source": [
        "**Confusion Matrix** "
      ],
      "metadata": {
        "id": "V-_L6pWjPnbm"
      }
    },
    {
      "cell_type": "code",
      "source": [
        "print(\"----LR----\")\n",
        "print(confusion_matrix(ytest,ypred1))\n",
        "print(\"----KNN----\")\n",
        "print(confusion_matrix(ytest,ypred2))"
      ],
      "metadata": {
        "colab": {
          "base_uri": "https://localhost:8080/"
        },
        "id": "sxk6ThiAPnJz",
        "outputId": "c83b560f-c742-406c-9f42-952faa8cce45"
      },
      "execution_count": 34,
      "outputs": [
        {
          "output_type": "stream",
          "name": "stdout",
          "text": [
            "----LR----\n",
            "[[1321   75]\n",
            " [ 102  502]]\n",
            "----KNN----\n",
            "[[1351   45]\n",
            " [ 176  428]]\n"
          ]
        }
      ]
    },
    {
      "cell_type": "markdown",
      "source": [
        "**Plotting the Confusion matrix**"
      ],
      "metadata": {
        "id": "l9XROCVXQA2D"
      }
    },
    {
      "cell_type": "code",
      "source": [
        "fig,ax = plt.subplots(1,2,figsize=(10,5))\n",
        "plt.suptitle(\"Confusion Matrix\") # setting Super Title\n",
        "\n",
        "sns.heatmap(confusion_matrix(ytest,ypred1),annot=True,ax=ax[0],fmt='g')\n",
        "\n",
        "sns.heatmap(confusion_matrix(ytest,ypred2),annot=True,ax=ax[1],fmt='g')\n",
        "\n",
        "# Setting title for each subplots\n",
        "ax[0].set_title(\"LR\")\n",
        "ax[1].set_title(\"KNN\")\n",
        "\n",
        "# setting labels for each subplots\n",
        "ax[0].set_ylabel(\"actual values\")\n",
        "ax[0].set_xlabel(\"Predicted Values\")\n",
        "ax[1].set_ylabel(\"actual values\")\n",
        "ax[1].set_xlabel(\"Predicted Values\")"
      ],
      "metadata": {
        "colab": {
          "base_uri": "https://localhost:8080/",
          "height": 387
        },
        "id": "qjc9Q2LFQAoo",
        "outputId": "bd8504f2-8698-4bc5-88fd-8e73bb19bc24"
      },
      "execution_count": 35,
      "outputs": [
        {
          "output_type": "execute_result",
          "data": {
            "text/plain": [
              "Text(0.5, 24.0, 'Predicted Values')"
            ]
          },
          "metadata": {},
          "execution_count": 35
        },
        {
          "output_type": "display_data",
          "data": {
            "text/plain": [
              "<Figure size 720x360 with 4 Axes>"
            ],
            "image/png": "[encoded data removed]"
          },
          "metadata": {
            "needs_background": "light"
          }
        }
      ]
    },
    {
      "cell_type": "code",
      "source": [
        " # Plotting the Confusion matrix using the function\n",
        " plot_confusion_matrix(clf1,Xtrain,ytrain) # For training data"
      ],
      "metadata": {
        "colab": {
          "base_uri": "https://localhost:8080/",
          "height": 351
        },
        "id": "1jZhaL1UQAkD",
        "outputId": "f733dd4d-345e-4a3a-8249-90e437e19ab5"
      },
      "execution_count": 36,
      "outputs": [
        {
          "output_type": "stream",
          "name": "stderr",
          "text": [
            "/usr/local/lib/python3.8/dist-packages/sklearn/utils/deprecation.py:87: FutureWarning: Function plot_confusion_matrix is deprecated; Function `plot_confusion_matrix` is deprecated in 1.0 and will be removed in 1.2. Use one of the class methods: ConfusionMatrixDisplay.from_predictions or ConfusionMatrixDisplay.from_estimator.\n",
            "  warnings.warn(msg, category=FutureWarning)\n"
          ]
        },
        {
          "output_type": "execute_result",
          "data": {
            "text/plain": [
              "<sklearn.metrics._plot.confusion_matrix.ConfusionMatrixDisplay at 0x7f972ef54be0>"
            ]
          },
          "metadata": {},
          "execution_count": 36
        },
        {
          "output_type": "display_data",
          "data": {
            "text/plain": [
              "<Figure size 432x288 with 2 Axes>"
            ],
            "image/png": "[encoded data removed]"
          },
          "metadata": {
            "needs_background": "light"
          }
        }
      ]
    },
    {
      "cell_type": "code",
      "source": [
        " # With Test Data\n",
        "plot_confusion_matrix(clf1,Xtest,ytest)\n",
        "plt.title(\"confusion Matrix\")"
      ],
      "metadata": {
        "colab": {
          "base_uri": "https://localhost:8080/",
          "height": 367
        },
        "id": "qgOQTdaUQAhU",
        "outputId": "438786c8-13a0-4f2e-b54e-a14d0b90101f"
      },
      "execution_count": 37,
      "outputs": [
        {
          "output_type": "stream",
          "name": "stderr",
          "text": [
            "/usr/local/lib/python3.8/dist-packages/sklearn/utils/deprecation.py:87: FutureWarning: Function plot_confusion_matrix is deprecated; Function `plot_confusion_matrix` is deprecated in 1.0 and will be removed in 1.2. Use one of the class methods: ConfusionMatrixDisplay.from_predictions or ConfusionMatrixDisplay.from_estimator.\n",
            "  warnings.warn(msg, category=FutureWarning)\n"
          ]
        },
        {
          "output_type": "execute_result",
          "data": {
            "text/plain": [
              "Text(0.5, 1.0, 'confusion Matrix')"
            ]
          },
          "metadata": {},
          "execution_count": 37
        },
        {
          "output_type": "display_data",
          "data": {
            "text/plain": [
              "<Figure size 432x288 with 2 Axes>"
            ],
            "image/png": "[encoded data removed]"
          },
          "metadata": {
            "needs_background": "light"
          }
        }
      ]
    },
    {
      "cell_type": "markdown",
      "source": [
        "**Accuracy** "
      ],
      "metadata": {
        "id": "YU_NsngUKHvD"
      }
    },
    {
      "cell_type": "code",
      "source": [
        "def accuracy(actual,predicted,comment=\"comment\"):\n",
        "  print(\"Accuracy Score for \",comment,\"is\",\"  :  \",   accuracy_score(actual,predicted))"
      ],
      "metadata": {
        "id": "MIgy_JpaJ7g_"
      },
      "execution_count": 38,
      "outputs": []
    },
    {
      "cell_type": "code",
      "source": [
        "accuracy(ytest,ypred1,comment=\"Logistic Regression with default threshold\")\n",
        "accuracy(ytest,ypred11,comment=\"Logistic Regression with custom threshold\")\n",
        "print()\n",
        "accuracy(ytest,ypred2,comment=\"KNN with default threshold\")\n",
        "accuracy(ytest,ypred22,comment=\"KNN with custom threshold\")"
      ],
      "metadata": {
        "colab": {
          "base_uri": "https://localhost:8080/"
        },
        "id": "aGl8-5VvLCU5",
        "outputId": "a9a88d2e-6365-4743-c32a-840e2fdac820"
      },
      "execution_count": 39,
      "outputs": [
        {
          "output_type": "stream",
          "name": "stdout",
          "text": [
            "Accuracy Score for  Logistic Regression with default threshold is   :   0.9115\n",
            "Accuracy Score for  Logistic Regression with custom threshold is   :   0.904\n",
            "\n",
            "Accuracy Score for  KNN with default threshold is   :   0.8895\n",
            "Accuracy Score for  KNN with custom threshold is   :   0.848\n"
          ]
        }
      ]
    },
    {
      "cell_type": "markdown",
      "source": [
        "**Precision** "
      ],
      "metadata": {
        "id": "wV3GDjCQLvOT"
      }
    },
    {
      "cell_type": "markdown",
      "source": [
        "True Postive / Predicted Positive = TP/(TP + FP)"
      ],
      "metadata": {
        "id": "Ec2S-VEzL4Ee"
      }
    },
    {
      "cell_type": "code",
      "source": [
        "def precision(actual,predicted):\n",
        "  print(precision_score(actual,predicted))"
      ],
      "metadata": {
        "id": "jokQ05JhLPvw"
      },
      "execution_count": 40,
      "outputs": []
    },
    {
      "cell_type": "code",
      "source": [
        "print(\"-----Logistic Regression------\")\n",
        "precision(ytest,ypred1)\n",
        "precision(ytest,ypred11)\n",
        "print('----For KNN------')\n",
        "precision(ytest,ypred2)\n",
        "precision(ytest,ypred22)"
      ],
      "metadata": {
        "colab": {
          "base_uri": "https://localhost:8080/"
        },
        "id": "lF4Jv8LkMW0F",
        "outputId": "eaa2652b-3fbd-495e-c1df-ec2286dd1de7"
      },
      "execution_count": 41,
      "outputs": [
        {
          "output_type": "stream",
          "name": "stdout",
          "text": [
            "-----Logistic Regression------\n",
            "0.8700173310225303\n",
            "0.9309623430962343\n",
            "----For KNN------\n",
            "0.904862579281184\n",
            "0.9464285714285714\n"
          ]
        }
      ]
    },
    {
      "cell_type": "markdown",
      "source": [
        "**Recall** "
      ],
      "metadata": {
        "id": "bK1BnatVM77r"
      }
    },
    {
      "cell_type": "markdown",
      "source": [
        "True Positive / Actual Postive = TP/TP+FN"
      ],
      "metadata": {
        "id": "jvbrYK57NCZx"
      }
    },
    {
      "cell_type": "code",
      "source": [
        "def recall(actual,predicted):\n",
        "  print(recall_score(actual,predicted))"
      ],
      "metadata": {
        "id": "_D7cliNpNA0l"
      },
      "execution_count": 42,
      "outputs": []
    },
    {
      "cell_type": "code",
      "source": [
        "print(\"-----Logistic Regression------\")\n",
        "recall(ytest,ypred1)\n",
        "recall(ytest,ypred11)\n",
        "print('----For KNN------')\n",
        "recall(ytest,ypred2)\n",
        "recall(ytest,ypred22)"
      ],
      "metadata": {
        "colab": {
          "base_uri": "https://localhost:8080/"
        },
        "id": "2ZpERPBrNX9d",
        "outputId": "030e3ddf-32ec-47fb-a623-5ccb9ce1da9f"
      },
      "execution_count": 43,
      "outputs": [
        {
          "output_type": "stream",
          "name": "stdout",
          "text": [
            "-----Logistic Regression------\n",
            "0.8311258278145696\n",
            "0.7367549668874173\n",
            "----For KNN------\n",
            "0.7086092715231788\n",
            "0.5264900662251656\n"
          ]
        }
      ]
    },
    {
      "cell_type": "markdown",
      "source": [
        "As we can see that with custom threshold:<br>\n",
        "Logistic Regression:<br>\n",
        "precision = 0.9309623430962343 and Recall = 0.7367549668874173<br>\n",
        "KNN:<br>\n",
        "precision = 0.9464285714285714 and Recall = 0.5264900662251656<br>\n",
        "Here the Precision is higher in both cases but Recall have dropped particulary in case of KNN. i.e. Model is able to reduce the number of False Positve(FP) case but unable to reduce the number of False Negative(FN) cases.<br><br>\n",
        "Now, the confusion is that how to measure which classifier is better than other becasue we can not use the accuracy because dataset is imbalanced, if we use precision then KNN is better than LR but we use Recall then LR is better than KNN.<br><br>\n",
        "To deal with this confusion we will be using the F1-score and Auc_roc curve."
      ],
      "metadata": {
        "id": "4rjYrTdVNjqJ"
      }
    },
    {
      "cell_type": "code",
      "source": [
        "from sklearn.metrics import f1_score\n",
        "print(\"F1-Score\")\n",
        "print(\"LR - with default threshold\",f1_score(ytest,ypred1))\n",
        "print(\"LR with custom threshold\",f1_score(ytest,ypred11))\n",
        "print(\"KNN with default threshold\",f1_score(ytest,ypred2))\n",
        "print(\"KNN with custom threshold\",f1_score(ytest,ypred22))"
      ],
      "metadata": {
        "colab": {
          "base_uri": "https://localhost:8080/"
        },
        "id": "tQJay7LXNbBH",
        "outputId": "58eab47c-a210-4e86-e765-348563752384"
      },
      "execution_count": 44,
      "outputs": [
        {
          "output_type": "stream",
          "name": "stdout",
          "text": [
            "F1-Score\n",
            "LR - with default threshold 0.8501270110076206\n",
            "LR with custom threshold 0.822550831792976\n",
            "KNN with default threshold 0.7948003714020427\n",
            "KNN with custom threshold 0.6765957446808512\n"
          ]
        }
      ]
    },
    {
      "cell_type": "markdown",
      "source": [
        "Now as we have the single number which can help us to compare different models"
      ],
      "metadata": {
        "id": "M5rFWtCnMNnZ"
      }
    },
    {
      "cell_type": "markdown",
      "source": [
        "**AUC_ROC** <br>\n",
        "\n",
        "Returns the Area Under the Curve"
      ],
      "metadata": {
        "id": "9TPisA6JMYHg"
      }
    },
    {
      "cell_type": "code",
      "source": [
        "print(\"----FOR LOGISTIC REGRESSION-----\")\n",
        "print(\"Default threshold :\",roc_auc_score(ytest,ypred1))\n",
        "print(\"Cusotm threshold :\",roc_auc_score(ytest,ypred11))\n",
        "print(\"----FOR KNN ----\")\n",
        "print(\"Default threshold :\",roc_auc_score(ytest,ypred2))\n",
        "print(\"Cusotm threshold :\",roc_auc_score(ytest,ypred22))"
      ],
      "metadata": {
        "id": "igOlViMFKWeE",
        "colab": {
          "base_uri": "https://localhost:8080/"
        },
        "outputId": "a2edf2c9-4e2c-4049-d80e-aab86ed7549a"
      },
      "execution_count": 51,
      "outputs": [
        {
          "output_type": "stream",
          "name": "stdout",
          "text": [
            "----FOR LOGISTIC REGRESSION-----\n",
            "Default threshold : 0.8887004497239037\n",
            "Cusotm threshold : 0.8565579992030209\n",
            "----FOR KNN ----\n",
            "Default threshold : 0.8381871572515607\n",
            "Cusotm threshold : 0.7567980417085713\n"
          ]
        }
      ]
    },
    {
      "cell_type": "code",
      "source": [],
      "metadata": {
        "id": "pFlc-WSbMsb2"
      },
      "execution_count": null,
      "outputs": []
    },
    {
      "cell_type": "markdown",
      "source": [
        "**--------- Plotting the auc_roc_curve----------**"
      ],
      "metadata": {
        "id": "zrf17EMkN-bw"
      }
    },
    {
      "cell_type": "code",
      "source": [
        "from sklearn.metrics import roc_curve"
      ],
      "metadata": {
        "id": "OX9bfhGnOiI7"
      },
      "execution_count": 53,
      "outputs": []
    },
    {
      "cell_type": "code",
      "source": [
        "fpr,tpr,threshold = roc_curve(ytest,ypred1)\n",
        "print(threshold)"
      ],
      "metadata": {
        "colab": {
          "base_uri": "https://localhost:8080/"
        },
        "id": "95NI2_dwOEN6",
        "outputId": "bea8415a-8cb9-42ce-bee7-e6b4e3eef79c"
      },
      "execution_count": 56,
      "outputs": [
        {
          "output_type": "stream",
          "name": "stdout",
          "text": [
            "[2 1 0]\n"
          ]
        }
      ]
    },
    {
      "cell_type": "markdown",
      "source": [
        "**Always pass the second argument to roc_curve as probability because for each unique probabilities it calculates a threshold and on that threhold it calculates the predicted out , compares it to the actual output and return the fpr and tpr for that particular threshold.**"
      ],
      "metadata": {
        "id": "B1QLa2mdOuaz"
      }
    },
    {
      "cell_type": "code",
      "source": [
        "fpr,tpr,threshold = roc_curve(ytest,ypred_proba1[:,1])\n",
        "print(threshold[:7]) # Printing the first 7 threshold"
      ],
      "metadata": {
        "colab": {
          "base_uri": "https://localhost:8080/"
        },
        "id": "g4R6cdLFObnu",
        "outputId": "cf8b4509-5611-4d11-fb59-e73281cd9ae0"
      },
      "execution_count": 58,
      "outputs": [
        {
          "output_type": "stream",
          "name": "stdout",
          "text": [
            "[1.99996244 0.99996244 0.99636544 0.99632182 0.99283193 0.99280066\n",
            " 0.98588067]\n"
          ]
        }
      ]
    },
    {
      "cell_type": "code",
      "source": [
        "# Creating data using all those fpr,tpr and threshold\n",
        "d = {'fpr':fpr,\n",
        "     'tpr':tpr,\n",
        "     'threshold':threshold}\n",
        "df_lr = pd.DataFrame(d)\n",
        "df_lr"
      ],
      "metadata": {
        "colab": {
          "base_uri": "https://localhost:8080/",
          "height": 424
        },
        "id": "KMF1ARzNOpMM",
        "outputId": "6d38a511-4b5a-49be-9117-a9a28fc3484e"
      },
      "execution_count": 62,
      "outputs": [
        {
          "output_type": "execute_result",
          "data": {
            "text/plain": [
              "          fpr       tpr  threshold\n",
              "0    0.000000  0.000000   1.999962\n",
              "1    0.000000  0.001656   0.999962\n",
              "2    0.000000  0.104305   0.996365\n",
              "3    0.000716  0.104305   0.996322\n",
              "4    0.000716  0.162252   0.992832\n",
              "..        ...       ...        ...\n",
              "267  0.685530  0.996689   0.008949\n",
              "268  0.685530  0.998344   0.008948\n",
              "269  0.699857  0.998344   0.008145\n",
              "270  0.699857  1.000000   0.008112\n",
              "271  1.000000  1.000000   0.000013\n",
              "\n",
              "[272 rows x 3 columns]"
            ],
            "text/html": [
              "\n",
              "  <div id=\"df-9cbb2595-0539-46b2-a811-5e25cbf4fd96\">\n",
              "    <div class=\"colab-df-container\">\n",
              "      <div>\n",
              "<style scoped>\n",
              "    .dataframe tbody tr th:only-of-type {\n",
              "        vertical-align: middle;\n",
              "    }\n",
              "\n",
              "    .dataframe tbody tr th {\n",
              "        vertical-align: top;\n",
              "    }\n",
              "\n",
              "    .dataframe thead th {\n",
              "        text-align: right;\n",
              "    }\n",
              "</style>\n",
              "<table border=\"1\" class=\"dataframe\">\n",
              "  <thead>\n",
              "    <tr style=\"text-align: right;\">\n",
              "      <th></th>\n",
              "      <th>fpr</th>\n",
              "      <th>tpr</th>\n",
              "      <th>threshold</th>\n",
              "    </tr>\n",
              "  </thead>\n",
              "  <tbody>\n",
              "    <tr>\n",
              "      <th>0</th>\n",
              "      <td>0.000000</td>\n",
              "      <td>0.000000</td>\n",
              "      <td>1.999962</td>\n",
              "    </tr>\n",
              "    <tr>\n",
              "      <th>1</th>\n",
              "      <td>0.000000</td>\n",
              "      <td>0.001656</td>\n",
              "      <td>0.999962</td>\n",
              "    </tr>\n",
              "    <tr>\n",
              "      <th>2</th>\n",
              "      <td>0.000000</td>\n",
              "      <td>0.104305</td>\n",
              "      <td>0.996365</td>\n",
              "    </tr>\n",
              "    <tr>\n",
              "      <th>3</th>\n",
              "      <td>0.000716</td>\n",
              "      <td>0.104305</td>\n",
              "      <td>0.996322</td>\n",
              "    </tr>\n",
              "    <tr>\n",
              "      <th>4</th>\n",
              "      <td>0.000716</td>\n",
              "      <td>0.162252</td>\n",
              "      <td>0.992832</td>\n",
              "    </tr>\n",
              "    <tr>\n",
              "      <th>...</th>\n",
              "      <td>...</td>\n",
              "      <td>...</td>\n",
              "      <td>...</td>\n",
              "    </tr>\n",
              "    <tr>\n",
              "      <th>267</th>\n",
              "      <td>0.685530</td>\n",
              "      <td>0.996689</td>\n",
              "      <td>0.008949</td>\n",
              "    </tr>\n",
              "    <tr>\n",
              "      <th>268</th>\n",
              "      <td>0.685530</td>\n",
              "      <td>0.998344</td>\n",
              "      <td>0.008948</td>\n",
              "    </tr>\n",
              "    <tr>\n",
              "      <th>269</th>\n",
              "      <td>0.699857</td>\n",
              "      <td>0.998344</td>\n",
              "      <td>0.008145</td>\n",
              "    </tr>\n",
              "    <tr>\n",
              "      <th>270</th>\n",
              "      <td>0.699857</td>\n",
              "      <td>1.000000</td>\n",
              "      <td>0.008112</td>\n",
              "    </tr>\n",
              "    <tr>\n",
              "      <th>271</th>\n",
              "      <td>1.000000</td>\n",
              "      <td>1.000000</td>\n",
              "      <td>0.000013</td>\n",
              "    </tr>\n",
              "  </tbody>\n",
              "</table>\n",
              "<p>272 rows × 3 columns</p>\n",
              "</div>\n",
              "      <button class=\"colab-df-convert\" onclick=\"convertToInteractive('df-9cbb2595-0539-46b2-a811-5e25cbf4fd96')\"\n",
              "              title=\"Convert this dataframe to an interactive table.\"\n",
              "              style=\"display:none;\">\n",
              "        \n",
              "  <svg xmlns=\"http://www.w3.org/2000/svg\" height=\"24px\"viewBox=\"0 0 24 24\"\n",
              "       width=\"24px\">\n",
              "    <path d=\"M0 0h24v24H0V0z\" fill=\"none\"/>\n",
              "    <path d=\"M18.56 5.44l.94 2.06.94-2.06 2.06-.94-2.06-.94-.94-2.06-.94 2.06-2.06.94zm-11 1L8.5 8.5l.94-2.06 2.06-.94-2.06-.94L8.5 2.5l-.94 2.06-2.06.94zm10 10l.94 2.06.94-2.06 2.06-.94-2.06-.94-.94-2.06-.94 2.06-2.06.94z\"/><path d=\"M17.41 7.96l-1.37-1.37c-.4-.4-.92-.59-1.43-.59-.52 0-1.04.2-1.43.59L10.3 9.45l-7.72 7.72c-.78.78-.78 2.05 0 2.83L4 21.41c.39.39.9.59 1.41.59.51 0 1.02-.2 1.41-.59l7.78-7.78 2.81-2.81c.8-.78.8-2.07 0-2.86zM5.41 20L4 18.59l7.72-7.72 1.47 1.35L5.41 20z\"/>\n",
              "  </svg>\n",
              "      </button>\n",
              "      \n",
              "  <style>\n",
              "    .colab-df-container {\n",
              "      display:flex;\n",
              "      flex-wrap:wrap;\n",
              "      gap: 12px;\n",
              "    }\n",
              "\n",
              "    .colab-df-convert {\n",
              "      background-color: #E8F0FE;\n",
              "      border: none;\n",
              "      border-radius: 50%;\n",
              "      cursor: pointer;\n",
              "      display: none;\n",
              "      fill: #1967D2;\n",
              "      height: 32px;\n",
              "      padding: 0 0 0 0;\n",
              "      width: 32px;\n",
              "    }\n",
              "\n",
              "    .colab-df-convert:hover {\n",
              "      background-color: #E2EBFA;\n",
              "      box-shadow: 0px 1px 2px rgba(60, 64, 67, 0.3), 0px 1px 3px 1px rgba(60, 64, 67, 0.15);\n",
              "      fill: #174EA6;\n",
              "    }\n",
              "\n",
              "    [theme=dark] .colab-df-convert {\n",
              "      background-color: #3B4455;\n",
              "      fill: #D2E3FC;\n",
              "    }\n",
              "\n",
              "    [theme=dark] .colab-df-convert:hover {\n",
              "      background-color: #434B5C;\n",
              "      box-shadow: 0px 1px 3px 1px rgba(0, 0, 0, 0.15);\n",
              "      filter: drop-shadow(0px 1px 2px rgba(0, 0, 0, 0.3));\n",
              "      fill: #FFFFFF;\n",
              "    }\n",
              "  </style>\n",
              "\n",
              "      <script>\n",
              "        const buttonEl =\n",
              "          document.querySelector('#df-9cbb2595-0539-46b2-a811-5e25cbf4fd96 button.colab-df-convert');\n",
              "        buttonEl.style.display =\n",
              "          google.colab.kernel.accessAllowed ? 'block' : 'none';\n",
              "\n",
              "        async function convertToInteractive(key) {\n",
              "          const element = document.querySelector('#df-9cbb2595-0539-46b2-a811-5e25cbf4fd96');\n",
              "          const dataTable =\n",
              "            await google.colab.kernel.invokeFunction('convertToInteractive',\n",
              "                                                     [key], {});\n",
              "          if (!dataTable) return;\n",
              "\n",
              "          const docLinkHtml = 'Like what you see? Visit the ' +\n",
              "            '<a target=\"_blank\" href=https://colab.research.google.com/notebooks/data_table.ipynb>data table notebook</a>'\n",
              "            + ' to learn more about interactive tables.';\n",
              "          element.innerHTML = '';\n",
              "          dataTable['output_type'] = 'display_data';\n",
              "          await google.colab.output.renderOutput(dataTable, element);\n",
              "          const docLink = document.createElement('div');\n",
              "          docLink.innerHTML = docLinkHtml;\n",
              "          element.appendChild(docLink);\n",
              "        }\n",
              "      </script>\n",
              "    </div>\n",
              "  </div>\n",
              "  "
            ]
          },
          "metadata": {},
          "execution_count": 62
        }
      ]
    },
    {
      "cell_type": "code",
      "source": [
        "#For KNN\n",
        "fpr2,tpr2,threshold2 = roc_curve(ytest,ypred_proba2[:,1])\n",
        "print(threshold2[:7]) # Printing the first 7 threshold\n",
        "# Creating data using all those fpr,tpr and threshold\n",
        "d2 = {'fpr':fpr2,\n",
        "     'tpr':tpr2,\n",
        "     'threshold':threshold2}\n",
        "df_knn = pd.DataFrame(d2)\n",
        "df_knn"
      ],
      "metadata": {
        "colab": {
          "base_uri": "https://localhost:8080/",
          "height": 286
        },
        "id": "cjU2zkeqPxv5",
        "outputId": "2761f5b8-c6f0-48b4-b566-25fc51d1ef0f"
      },
      "execution_count": 64,
      "outputs": [
        {
          "output_type": "stream",
          "name": "stdout",
          "text": [
            "[2.  1.  0.8 0.6 0.4 0.2 0. ]\n"
          ]
        },
        {
          "output_type": "execute_result",
          "data": {
            "text/plain": [
              "        fpr       tpr  threshold\n",
              "0  0.000000  0.000000        2.0\n",
              "1  0.003582  0.294702        1.0\n",
              "2  0.012894  0.526490        0.8\n",
              "3  0.032235  0.708609        0.6\n",
              "4  0.110315  0.847682        0.4\n",
              "5  0.345989  0.945364        0.2\n",
              "6  1.000000  1.000000        0.0"
            ],
            "text/html": [
              "\n",
              "  <div id=\"df-99a5fc3b-85a0-4d7e-83a8-a0c20728d414\">\n",
              "    <div class=\"colab-df-container\">\n",
              "      <div>\n",
              "<style scoped>\n",
              "    .dataframe tbody tr th:only-of-type {\n",
              "        vertical-align: middle;\n",
              "    }\n",
              "\n",
              "    .dataframe tbody tr th {\n",
              "        vertical-align: top;\n",
              "    }\n",
              "\n",
              "    .dataframe thead th {\n",
              "        text-align: right;\n",
              "    }\n",
              "</style>\n",
              "<table border=\"1\" class=\"dataframe\">\n",
              "  <thead>\n",
              "    <tr style=\"text-align: right;\">\n",
              "      <th></th>\n",
              "      <th>fpr</th>\n",
              "      <th>tpr</th>\n",
              "      <th>threshold</th>\n",
              "    </tr>\n",
              "  </thead>\n",
              "  <tbody>\n",
              "    <tr>\n",
              "      <th>0</th>\n",
              "      <td>0.000000</td>\n",
              "      <td>0.000000</td>\n",
              "      <td>2.0</td>\n",
              "    </tr>\n",
              "    <tr>\n",
              "      <th>1</th>\n",
              "      <td>0.003582</td>\n",
              "      <td>0.294702</td>\n",
              "      <td>1.0</td>\n",
              "    </tr>\n",
              "    <tr>\n",
              "      <th>2</th>\n",
              "      <td>0.012894</td>\n",
              "      <td>0.526490</td>\n",
              "      <td>0.8</td>\n",
              "    </tr>\n",
              "    <tr>\n",
              "      <th>3</th>\n",
              "      <td>0.032235</td>\n",
              "      <td>0.708609</td>\n",
              "      <td>0.6</td>\n",
              "    </tr>\n",
              "    <tr>\n",
              "      <th>4</th>\n",
              "      <td>0.110315</td>\n",
              "      <td>0.847682</td>\n",
              "      <td>0.4</td>\n",
              "    </tr>\n",
              "    <tr>\n",
              "      <th>5</th>\n",
              "      <td>0.345989</td>\n",
              "      <td>0.945364</td>\n",
              "      <td>0.2</td>\n",
              "    </tr>\n",
              "    <tr>\n",
              "      <th>6</th>\n",
              "      <td>1.000000</td>\n",
              "      <td>1.000000</td>\n",
              "      <td>0.0</td>\n",
              "    </tr>\n",
              "  </tbody>\n",
              "</table>\n",
              "</div>\n",
              "      <button class=\"colab-df-convert\" onclick=\"convertToInteractive('df-99a5fc3b-85a0-4d7e-83a8-a0c20728d414')\"\n",
              "              title=\"Convert this dataframe to an interactive table.\"\n",
              "              style=\"display:none;\">\n",
              "        \n",
              "  <svg xmlns=\"http://www.w3.org/2000/svg\" height=\"24px\"viewBox=\"0 0 24 24\"\n",
              "       width=\"24px\">\n",
              "    <path d=\"M0 0h24v24H0V0z\" fill=\"none\"/>\n",
              "    <path d=\"M18.56 5.44l.94 2.06.94-2.06 2.06-.94-2.06-.94-.94-2.06-.94 2.06-2.06.94zm-11 1L8.5 8.5l.94-2.06 2.06-.94-2.06-.94L8.5 2.5l-.94 2.06-2.06.94zm10 10l.94 2.06.94-2.06 2.06-.94-2.06-.94-.94-2.06-.94 2.06-2.06.94z\"/><path d=\"M17.41 7.96l-1.37-1.37c-.4-.4-.92-.59-1.43-.59-.52 0-1.04.2-1.43.59L10.3 9.45l-7.72 7.72c-.78.78-.78 2.05 0 2.83L4 21.41c.39.39.9.59 1.41.59.51 0 1.02-.2 1.41-.59l7.78-7.78 2.81-2.81c.8-.78.8-2.07 0-2.86zM5.41 20L4 18.59l7.72-7.72 1.47 1.35L5.41 20z\"/>\n",
              "  </svg>\n",
              "      </button>\n",
              "      \n",
              "  <style>\n",
              "    .colab-df-container {\n",
              "      display:flex;\n",
              "      flex-wrap:wrap;\n",
              "      gap: 12px;\n",
              "    }\n",
              "\n",
              "    .colab-df-convert {\n",
              "      background-color: #E8F0FE;\n",
              "      border: none;\n",
              "      border-radius: 50%;\n",
              "      cursor: pointer;\n",
              "      display: none;\n",
              "      fill: #1967D2;\n",
              "      height: 32px;\n",
              "      padding: 0 0 0 0;\n",
              "      width: 32px;\n",
              "    }\n",
              "\n",
              "    .colab-df-convert:hover {\n",
              "      background-color: #E2EBFA;\n",
              "      box-shadow: 0px 1px 2px rgba(60, 64, 67, 0.3), 0px 1px 3px 1px rgba(60, 64, 67, 0.15);\n",
              "      fill: #174EA6;\n",
              "    }\n",
              "\n",
              "    [theme=dark] .colab-df-convert {\n",
              "      background-color: #3B4455;\n",
              "      fill: #D2E3FC;\n",
              "    }\n",
              "\n",
              "    [theme=dark] .colab-df-convert:hover {\n",
              "      background-color: #434B5C;\n",
              "      box-shadow: 0px 1px 3px 1px rgba(0, 0, 0, 0.15);\n",
              "      filter: drop-shadow(0px 1px 2px rgba(0, 0, 0, 0.3));\n",
              "      fill: #FFFFFF;\n",
              "    }\n",
              "  </style>\n",
              "\n",
              "      <script>\n",
              "        const buttonEl =\n",
              "          document.querySelector('#df-99a5fc3b-85a0-4d7e-83a8-a0c20728d414 button.colab-df-convert');\n",
              "        buttonEl.style.display =\n",
              "          google.colab.kernel.accessAllowed ? 'block' : 'none';\n",
              "\n",
              "        async function convertToInteractive(key) {\n",
              "          const element = document.querySelector('#df-99a5fc3b-85a0-4d7e-83a8-a0c20728d414');\n",
              "          const dataTable =\n",
              "            await google.colab.kernel.invokeFunction('convertToInteractive',\n",
              "                                                     [key], {});\n",
              "          if (!dataTable) return;\n",
              "\n",
              "          const docLinkHtml = 'Like what you see? Visit the ' +\n",
              "            '<a target=\"_blank\" href=https://colab.research.google.com/notebooks/data_table.ipynb>data table notebook</a>'\n",
              "            + ' to learn more about interactive tables.';\n",
              "          element.innerHTML = '';\n",
              "          dataTable['output_type'] = 'display_data';\n",
              "          await google.colab.output.renderOutput(dataTable, element);\n",
              "          const docLink = document.createElement('div');\n",
              "          docLink.innerHTML = docLinkHtml;\n",
              "          element.appendChild(docLink);\n",
              "        }\n",
              "      </script>\n",
              "    </div>\n",
              "  </div>\n",
              "  "
            ]
          },
          "metadata": {},
          "execution_count": 64
        }
      ]
    },
    {
      "cell_type": "code",
      "source": [
        "# roc curve for tpr = fpr \n",
        "random_probs = [0 for i in range(len(ytest))]\n",
        "p_fpr, p_tpr, _ = roc_curve(ytest, random_probs, pos_label=1)\n",
        "\n",
        "plt.plot(fpr,tpr,label=\"LR\")\n",
        "plt.plot(fpr2,tpr2,label='KNN')\n",
        "plt.plot(p_fpr,p_tpr)\n",
        "\n",
        "plt.ylabel(\"True Positive Rate/Recall\")\n",
        "plt.xlabel(\"False Positive Rate\")\n",
        "plt.title(\"ROC Curve\")\n",
        "plt.legend()"
      ],
      "metadata": {
        "colab": {
          "base_uri": "https://localhost:8080/",
          "height": 312
        },
        "id": "hJvARgSRQL9D",
        "outputId": "854cfa9b-52e0-4ce5-af68-b91cdd8c3157"
      },
      "execution_count": 72,
      "outputs": [
        {
          "output_type": "execute_result",
          "data": {
            "text/plain": [
              "<matplotlib.legend.Legend at 0x7f972e475880>"
            ]
          },
          "metadata": {},
          "execution_count": 72
        },
        {
          "output_type": "display_data",
          "data": {
            "text/plain": [
              "<Figure size 432x288 with 1 Axes>"
            ],
            "image/png": "[encoded data removed]"
          },
          "metadata": {
            "needs_background": "light"
          }
        }
      ]
    },
    {
      "cell_type": "markdown",
      "source": [
        "AS we can see that Area under the LR is greater than the KNN. so clf1 is better than the clf2."
      ],
      "metadata": {
        "id": "NBSP1iwnSDB_"
      }
    },
    {
      "cell_type": "code",
      "source": [
        "from sklearn.metrics._plot.roc_curve import plot_roc_curve\n",
        "# Ploting using the function\n",
        "plot_roc_curve(clf1,Xtest,ytest)\n",
        "plot_roc_curve(clf2,Xtest,ytest)"
      ],
      "metadata": {
        "colab": {
          "base_uri": "https://localhost:8080/",
          "height": 648
        },
        "id": "H-Fp-CBEQfk6",
        "outputId": "7ac9f99c-884f-4cc3-f309-a23c0da9227b"
      },
      "execution_count": 74,
      "outputs": [
        {
          "output_type": "stream",
          "name": "stderr",
          "text": [
            "/usr/local/lib/python3.8/dist-packages/sklearn/utils/deprecation.py:87: FutureWarning: Function plot_roc_curve is deprecated; Function :func:`plot_roc_curve` is deprecated in 1.0 and will be removed in 1.2. Use one of the class methods: :meth:`sklearn.metric.RocCurveDisplay.from_predictions` or :meth:`sklearn.metric.RocCurveDisplay.from_estimator`.\n",
            "  warnings.warn(msg, category=FutureWarning)\n",
            "/usr/local/lib/python3.8/dist-packages/sklearn/utils/deprecation.py:87: FutureWarning: Function plot_roc_curve is deprecated; Function :func:`plot_roc_curve` is deprecated in 1.0 and will be removed in 1.2. Use one of the class methods: :meth:`sklearn.metric.RocCurveDisplay.from_predictions` or :meth:`sklearn.metric.RocCurveDisplay.from_estimator`.\n",
            "  warnings.warn(msg, category=FutureWarning)\n"
          ]
        },
        {
          "output_type": "execute_result",
          "data": {
            "text/plain": [
              "<sklearn.metrics._plot.roc_curve.RocCurveDisplay at 0x7f972e357ee0>"
            ]
          },
          "metadata": {},
          "execution_count": 74
        },
        {
          "output_type": "display_data",
          "data": {
            "text/plain": [
              "<Figure size 432x288 with 1 Axes>"
            ],
            "image/png": "[encoded data removed]"
          },
          "metadata": {
            "needs_background": "light"
          }
        },
        {
          "output_type": "display_data",
          "data": {
            "text/plain": [
              "<Figure size 432x288 with 1 Axes>"
            ],
            "image/png": "[encoded data removed]"
          },
          "metadata": {
            "needs_background": "light"
          }
        }
      ]
    },
    {
      "cell_type": "markdown",
      "source": [
        "**We can see a difference that when Area was calculated through roc_auc_score then area was less than when we plotted the graph using the roc_curve function because in roc_auc_score we passed the actual and predicted target values but in case of roc_curve it calculates the area with the best threshold and that's why there is a differnce**"
      ],
      "metadata": {
        "id": "XD8LGXWRUJph"
      }
    },
    {
      "cell_type": "markdown",
      "source": [
        "**Classification Report**"
      ],
      "metadata": {
        "id": "TzIcWDnCVxT7"
      }
    },
    {
      "cell_type": "code",
      "source": [
        "from sklearn.metrics import classification_report"
      ],
      "metadata": {
        "id": "lZbK78cTSY4Q"
      },
      "execution_count": 76,
      "outputs": []
    },
    {
      "cell_type": "code",
      "source": [
        "lr_default_threshold=classification_report(ytest,ypred1)\n",
        "lr_custom_threshold=classification_report(ytest,ypred11)"
      ],
      "metadata": {
        "id": "WJ3Xz8C0V5m7"
      },
      "execution_count": 82,
      "outputs": []
    },
    {
      "cell_type": "code",
      "source": [
        "print(lr_default_threshold)"
      ],
      "metadata": {
        "colab": {
          "base_uri": "https://localhost:8080/"
        },
        "id": "270dNBaOV_by",
        "outputId": "e0f1b9cd-1811-4d58-fd40-f8862c54ebcd"
      },
      "execution_count": 83,
      "outputs": [
        {
          "output_type": "stream",
          "name": "stdout",
          "text": [
            "              precision    recall  f1-score   support\n",
            "\n",
            "           0       0.93      0.95      0.94      1396\n",
            "           1       0.87      0.83      0.85       604\n",
            "\n",
            "    accuracy                           0.91      2000\n",
            "   macro avg       0.90      0.89      0.89      2000\n",
            "weighted avg       0.91      0.91      0.91      2000\n",
            "\n"
          ]
        }
      ]
    },
    {
      "cell_type": "code",
      "source": [
        "print(lr_custom_threshold)"
      ],
      "metadata": {
        "colab": {
          "base_uri": "https://localhost:8080/"
        },
        "id": "MfpVWVTVWDwL",
        "outputId": "57e776c9-67c3-450a-9eb0-a5283422fbf4"
      },
      "execution_count": 84,
      "outputs": [
        {
          "output_type": "stream",
          "name": "stdout",
          "text": [
            "              precision    recall  f1-score   support\n",
            "\n",
            "           0       0.90      0.98      0.93      1396\n",
            "           1       0.93      0.74      0.82       604\n",
            "\n",
            "    accuracy                           0.90      2000\n",
            "   macro avg       0.91      0.86      0.88      2000\n",
            "weighted avg       0.91      0.90      0.90      2000\n",
            "\n"
          ]
        }
      ]
    },
    {
      "cell_type": "code",
      "source": [
        "knn_default_threshold=classification_report(ytest,ypred2)\n",
        "knn_custom_threshold=classification_report(ytest,ypred22)"
      ],
      "metadata": {
        "id": "fPKymfjYWSgz"
      },
      "execution_count": 85,
      "outputs": []
    },
    {
      "cell_type": "code",
      "source": [
        "print(knn_default_threshold)"
      ],
      "metadata": {
        "colab": {
          "base_uri": "https://localhost:8080/"
        },
        "id": "oDPuxJa0WkMX",
        "outputId": "7b75bbb2-d1f6-4b7d-d532-7fada45212e0"
      },
      "execution_count": 86,
      "outputs": [
        {
          "output_type": "stream",
          "name": "stdout",
          "text": [
            "              precision    recall  f1-score   support\n",
            "\n",
            "           0       0.88      0.97      0.92      1396\n",
            "           1       0.90      0.71      0.79       604\n",
            "\n",
            "    accuracy                           0.89      2000\n",
            "   macro avg       0.89      0.84      0.86      2000\n",
            "weighted avg       0.89      0.89      0.89      2000\n",
            "\n"
          ]
        }
      ]
    },
    {
      "cell_type": "code",
      "source": [
        "print(knn_custom_threshold)"
      ],
      "metadata": {
        "colab": {
          "base_uri": "https://localhost:8080/"
        },
        "id": "8Uum0ZabWm_2",
        "outputId": "c56669c5-fe67-471b-9198-ad4b41c381ab"
      },
      "execution_count": 88,
      "outputs": [
        {
          "output_type": "stream",
          "name": "stdout",
          "text": [
            "              precision    recall  f1-score   support\n",
            "\n",
            "           0       0.83      0.99      0.90      1396\n",
            "           1       0.95      0.53      0.68       604\n",
            "\n",
            "    accuracy                           0.85      2000\n",
            "   macro avg       0.89      0.76      0.79      2000\n",
            "weighted avg       0.86      0.85      0.83      2000\n",
            "\n"
          ]
        }
      ]
    },
    {
      "cell_type": "markdown",
      "source": [
        "--------------------------------------------- X ---------------------------------------------"
      ],
      "metadata": {
        "id": "qWO4C4k5WxCp"
      }
    }
  ]
}
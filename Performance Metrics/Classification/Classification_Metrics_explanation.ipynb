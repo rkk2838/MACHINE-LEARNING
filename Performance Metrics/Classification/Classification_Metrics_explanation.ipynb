{
  "nbformat": 4,
  "nbformat_minor": 0,
  "metadata": {
    "colab": {
      "provenance": []
    },
    "kernelspec": {
      "name": "python3",
      "display_name": "Python 3"
    },
    "language_info": {
      "name": "python"
    }
  },
  "cells": [
    {
      "cell_type": "markdown",
      "source": [
        "# **Classification Performance Metrics** "
      ],
      "metadata": {
        "id": "pZTeVlLcr-21"
      }
    },
    {
      "cell_type": "markdown",
      "source": [
        "In the classification Metrics primarily below mentioned metrics are used: <br>\n",
        "\n",
        "  1. Accuracy\n",
        "  2. Recall\n",
        "  3. Precision\n",
        "  4. Confusion Matrix\n",
        "  5. F1 Score"
      ],
      "metadata": {
        "id": "MlxdPpV4sM8G"
      }
    },
    {
      "cell_type": "markdown",
      "source": [
        "### Imported Libraries"
      ],
      "metadata": {
        "id": "XZNE89a3tGKL"
      }
    },
    {
      "cell_type": "code",
      "source": [
        "# Standard Libraries\n",
        "import pandas as pd\n",
        "import numpy as np\n",
        "import matplotlib.pyplot as plt\n",
        "import seaborn as sns\n",
        "\n",
        "# Collection Libraries\n",
        "from collections import Counter\n",
        "\n",
        "# Preprocessing Libraries\n",
        "from sklearn.datasets import make_classification\n",
        "from sklearn.model_selection import train_test_split\n",
        "\n",
        "# Algorithm Libraries\n",
        "from sklearn.linear_model import LogisticRegression\n",
        "\n",
        "# Metrics Libraries\n",
        "from sklearn.metrics import confusion_matrix,ConfusionMatrixDisplay,accuracy_score,precision_score,roc_auc_score,recall_score\n",
        "from sklearn.metrics import precision_recall_curve,plot_confusion_matrix,roc_auc_score,auc\n"
      ],
      "metadata": {
        "id": "HFDKkxJ4tMp_"
      },
      "execution_count": 1,
      "outputs": []
    },
    {
      "cell_type": "code",
      "execution_count": 2,
      "metadata": {
        "id": "yelhqHNCr5XD"
      },
      "outputs": [],
      "source": [
        "# Create a dataset of 10000 dataset\n",
        "X,y = make_classification(n_samples=10000,random_state=32)"
      ]
    },
    {
      "cell_type": "code",
      "source": [
        "X.shape,y.shape"
      ],
      "metadata": {
        "colab": {
          "base_uri": "https://localhost:8080/"
        },
        "id": "yPsEQfrkvl0D",
        "outputId": "a1fc3136-dc00-4117-cc67-9d4ebca93e5e"
      },
      "execution_count": 3,
      "outputs": [
        {
          "output_type": "execute_result",
          "data": {
            "text/plain": [
              "((10000, 20), (10000,))"
            ]
          },
          "metadata": {},
          "execution_count": 3
        }
      ]
    },
    {
      "cell_type": "code",
      "source": [
        "# Dataset is almost balanced\n",
        "Counter(y)"
      ],
      "metadata": {
        "colab": {
          "base_uri": "https://localhost:8080/"
        },
        "id": "CL_0o2Ssvm-G",
        "outputId": "5f2ea1b8-ec75-4be4-e182-8b166f158e10"
      },
      "execution_count": 4,
      "outputs": [
        {
          "output_type": "execute_result",
          "data": {
            "text/plain": [
              "Counter({0: 4998, 1: 5002})"
            ]
          },
          "metadata": {},
          "execution_count": 4
        }
      ]
    },
    {
      "cell_type": "code",
      "source": [
        "# Splitting the dataset\n",
        "X_tr , X_te, y_tr,y_te = train_test_split(X,y,test_size = .2 , random_state=34)"
      ],
      "metadata": {
        "id": "9bdwB9aawFFW"
      },
      "execution_count": 5,
      "outputs": []
    },
    {
      "cell_type": "code",
      "source": [
        "X_tr.shape , X_te.shape , y_tr.shape ,y_te.shape "
      ],
      "metadata": {
        "colab": {
          "base_uri": "https://localhost:8080/"
        },
        "id": "nz5vUeOpwWxM",
        "outputId": "33414164-1625-4841-9192-b0002ba8fd7e"
      },
      "execution_count": 6,
      "outputs": [
        {
          "output_type": "execute_result",
          "data": {
            "text/plain": [
              "((8000, 20), (2000, 20), (8000,), (2000,))"
            ]
          },
          "metadata": {},
          "execution_count": 6
        }
      ]
    },
    {
      "cell_type": "markdown",
      "source": [
        "#### **Training and validating the Logistic Regression Model**"
      ],
      "metadata": {
        "id": "hFTREVtvwqE4"
      }
    },
    {
      "cell_type": "code",
      "source": [
        "lr = LogisticRegression()"
      ],
      "metadata": {
        "id": "vtq8xDwdwbsB"
      },
      "execution_count": 7,
      "outputs": []
    },
    {
      "cell_type": "code",
      "source": [
        "lr.fit(X_tr,y_tr)"
      ],
      "metadata": {
        "colab": {
          "base_uri": "https://localhost:8080/"
        },
        "id": "oE2NeEv8w3XA",
        "outputId": "22c32108-45e0-4eba-90c0-e56af1aebb38"
      },
      "execution_count": 8,
      "outputs": [
        {
          "output_type": "execute_result",
          "data": {
            "text/plain": [
              "LogisticRegression()"
            ]
          },
          "metadata": {},
          "execution_count": 8
        }
      ]
    },
    {
      "cell_type": "markdown",
      "source": [
        "**predict_proba()** <br>\n",
        "predict() is used to predict the actual class (in your case one of 0, 1, or 2).<br>\n",
        "predict_proba() is used to predict the class probabilities <br>\n",
        "Example :<br>\n",
        "predict() would output class 0 since the class probability for 0 is 0.6.\n",
        "[0.6, 0.2, 0.2] is the output of predict_proba that simply denotes that the class probability for classes 0, 1, and 2 are 0.6, 0.2, and 0.2 respectively.\n",
        "\n"
      ],
      "metadata": {
        "id": "D8huJt3YxThD"
      }
    },
    {
      "cell_type": "code",
      "source": [
        "yprob = lr.predict_proba(X_te)"
      ],
      "metadata": {
        "id": "Q2dBJ02ixBVA"
      },
      "execution_count": 9,
      "outputs": []
    },
    {
      "cell_type": "code",
      "source": [
        "yprob # first value in the array represent that probability of class 0 and 2nd represent the probablity of class 1."
      ],
      "metadata": {
        "colab": {
          "base_uri": "https://localhost:8080/"
        },
        "id": "7N07AFwaxzQ0",
        "outputId": "b6c1d7e2-a357-4716-cb94-c155363b2c41"
      },
      "execution_count": 10,
      "outputs": [
        {
          "output_type": "execute_result",
          "data": {
            "text/plain": [
              "array([[0.78857862, 0.21142138],\n",
              "       [0.17489076, 0.82510924],\n",
              "       [0.99832516, 0.00167484],\n",
              "       ...,\n",
              "       [0.76617271, 0.23382729],\n",
              "       [0.93442134, 0.06557866],\n",
              "       [0.0085638 , 0.9914362 ]])"
            ]
          },
          "metadata": {},
          "execution_count": 10
        }
      ]
    },
    {
      "cell_type": "markdown",
      "source": [
        "Here we did the list comprehension and set the probability to 0.7 i.e. if probablity of postive class is less than 0.7 then it will be beloging to class 0 otherwise it will be class 1.<br>\n",
        "Also yprediciton here is a list to we will convert into the numpy array."
      ],
      "metadata": {
        "id": "niCe-b56yk_p"
      }
    },
    {
      "cell_type": "code",
      "source": [
        "yprediction = [0 if i<=0.7 else 1 for i in yprob[:,1] ]"
      ],
      "metadata": {
        "id": "c6LyWFnxx0YF"
      },
      "execution_count": 11,
      "outputs": []
    },
    {
      "cell_type": "code",
      "source": [
        "# Getting the first 9 values\n",
        "yprediction[:9]"
      ],
      "metadata": {
        "colab": {
          "base_uri": "https://localhost:8080/"
        },
        "id": "Moiu7FttyVx4",
        "outputId": "0c30d612-b19a-4a2c-f104-4198d67dd492"
      },
      "execution_count": 12,
      "outputs": [
        {
          "output_type": "execute_result",
          "data": {
            "text/plain": [
              "[0, 1, 0, 0, 1, 0, 1, 1, 0]"
            ]
          },
          "metadata": {},
          "execution_count": 12
        }
      ]
    },
    {
      "cell_type": "code",
      "source": [
        "type(yprediction)"
      ],
      "metadata": {
        "colab": {
          "base_uri": "https://localhost:8080/"
        },
        "id": "tSBW0t0fyZKn",
        "outputId": "43732a41-5ed0-40b0-a904-2ee0a0e0e834"
      },
      "execution_count": 13,
      "outputs": [
        {
          "output_type": "execute_result",
          "data": {
            "text/plain": [
              "list"
            ]
          },
          "metadata": {},
          "execution_count": 13
        }
      ]
    },
    {
      "cell_type": "code",
      "source": [
        "yprediction = np.array(yprediction)"
      ],
      "metadata": {
        "id": "LlFGaEeAz0bU"
      },
      "execution_count": 14,
      "outputs": []
    },
    {
      "cell_type": "code",
      "source": [
        "type(yprediction)"
      ],
      "metadata": {
        "colab": {
          "base_uri": "https://localhost:8080/"
        },
        "id": "siV__uGfz5hw",
        "outputId": "465b6564-ba6c-4055-83fd-2e77da3b93f8"
      },
      "execution_count": 15,
      "outputs": [
        {
          "output_type": "execute_result",
          "data": {
            "text/plain": [
              "numpy.ndarray"
            ]
          },
          "metadata": {},
          "execution_count": 15
        }
      ]
    },
    {
      "cell_type": "code",
      "source": [
        "yprediction.shape"
      ],
      "metadata": {
        "colab": {
          "base_uri": "https://localhost:8080/"
        },
        "id": "Pl-7bHfwz69G",
        "outputId": "ddeb45b7-0e56-44f6-d94f-2f938d9e2bd0"
      },
      "execution_count": 16,
      "outputs": [
        {
          "output_type": "execute_result",
          "data": {
            "text/plain": [
              "(2000,)"
            ]
          },
          "metadata": {},
          "execution_count": 16
        }
      ]
    },
    {
      "cell_type": "markdown",
      "source": [
        "Other way to calculate the prediction is using predict() method where threshold is set to 0.5 "
      ],
      "metadata": {
        "id": "J7rPk4TN0DVi"
      }
    },
    {
      "cell_type": "code",
      "source": [
        "ypred = lr.predict(X_te)"
      ],
      "metadata": {
        "id": "4LYlY3_Ez_qK"
      },
      "execution_count": 17,
      "outputs": []
    },
    {
      "cell_type": "code",
      "source": [
        "type(ypred) # It is numpy array"
      ],
      "metadata": {
        "colab": {
          "base_uri": "https://localhost:8080/"
        },
        "id": "x_qsgeAk0ggq",
        "outputId": "a41afc67-d6ef-4211-9507-ccbf737d23a9"
      },
      "execution_count": 18,
      "outputs": [
        {
          "output_type": "execute_result",
          "data": {
            "text/plain": [
              "numpy.ndarray"
            ]
          },
          "metadata": {},
          "execution_count": 18
        }
      ]
    },
    {
      "cell_type": "code",
      "source": [
        "print(ypred.shape)\n",
        "print(ypred)"
      ],
      "metadata": {
        "colab": {
          "base_uri": "https://localhost:8080/"
        },
        "id": "NKegVQYY0ixB",
        "outputId": "050199ff-0d99-45c2-dbb4-b0f2bc514465"
      },
      "execution_count": 19,
      "outputs": [
        {
          "output_type": "stream",
          "name": "stdout",
          "text": [
            "(2000,)\n",
            "[0 1 0 ... 0 0 1]\n"
          ]
        }
      ]
    },
    {
      "cell_type": "markdown",
      "source": [
        "Now we have the ytest and ypred then we will go to checking preformance metrics"
      ],
      "metadata": {
        "id": "XwD5MOzA00Mc"
      }
    },
    {
      "cell_type": "code",
      "source": [
        "y_te.shape , ypred.shape"
      ],
      "metadata": {
        "colab": {
          "base_uri": "https://localhost:8080/"
        },
        "id": "eDZLjYps0ohC",
        "outputId": "f2e2fdf3-dbd1-4303-e842-fbf04a5ff7d5"
      },
      "execution_count": 20,
      "outputs": [
        {
          "output_type": "execute_result",
          "data": {
            "text/plain": [
              "((2000,), (2000,))"
            ]
          },
          "metadata": {},
          "execution_count": 20
        }
      ]
    },
    {
      "cell_type": "markdown",
      "source": [
        "## **Performace Metrics** "
      ],
      "metadata": {
        "id": "p1OZfhvA094X"
      }
    },
    {
      "cell_type": "code",
      "source": [],
      "metadata": {
        "id": "cUKGu-wt0xGQ"
      },
      "execution_count": 20,
      "outputs": []
    },
    {
      "cell_type": "markdown",
      "source": [
        "#### **Confusion Matrix**"
      ],
      "metadata": {
        "id": "-Y2-DaWl1xAW"
      }
    },
    {
      "cell_type": "markdown",
      "source": [
        "A confusion matrix is a summary of prediction results on a classification problem. <br>\n",
        "It consist of 4 terms for a binary classification problem.<br>\n",
        "\n",
        "**True Positive:**\n",
        "\n",
        "Interpretation: You predicted positive and it’s true.\n",
        "\n",
        "You predicted that a woman is pregnant and she actually is.\n",
        "\n",
        "**True Negative:**\n",
        "\n",
        "Interpretation: You predicted negative and it’s true.\n",
        "\n",
        "You predicted that a man is not pregnant and he actually is not.\n",
        "\n",
        "**False Positive: (Type 1 Error)**\n",
        "\n",
        "Interpretation: You predicted positive and it’s false.\n",
        "\n",
        "You predicted that a man is pregnant but he actually is not.\n",
        "\n",
        "**False Negative: (Type 2 Error)**\n",
        "\n",
        "Interpretation: You predicted negative and it’s false.\n",
        "\n",
        "You predicted that a woman is not pregnant but she actually is.\n",
        "<br>\n",
        "All these values are represented in the matrix form."
      ],
      "metadata": {
        "id": "CEo1mMOL1qia"
      }
    },
    {
      "cell_type": "markdown",
      "source": [
        "![1.png](data:image/png;base64,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)"
      ],
      "metadata": {
        "id": "nsHsHil63PYU"
      }
    },
    {
      "cell_type": "markdown",
      "source": [
        "This is image that we have studied where actual values are on horizontal line and predicted values on the vertical line.\n",
        "<br>\n",
        "HOW TO READ THE CONFUSION MATRIX:<br>\n",
        "There are 4 cell let say first cell as 11, second as 10, third as 01 and 4th as 00.<br>\n",
        "Now say that for 11 cell --- > The predicted values is positive and actually it is positive. so it comes out as TP.<br>\n",
        "for cell 10 ---- >  This is predicted as Positive but actually it is Negative means that it is FP(False Positive).<br>\n",
        "for cell 01 --- > This is predicted as Negative but actually it is positive.that means it is False Negative FN. <br>\n",
        "for cell 00 ----> This is predicted as Negative and actually it is Negative. so it will comes as True Negative(TN)."
      ],
      "metadata": {
        "id": "tfs68elYEemm"
      }
    },
    {
      "cell_type": "markdown",
      "source": [
        "**But sklearn confusion matrix returns in different format**\n",
        "![2.png](data:image/png;base64,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)"
      ],
      "metadata": {
        "id": "dVndYOU3Gk1I"
      }
    },
    {
      "cell_type": "code",
      "source": [
        "# printing the confusion matrix\n",
        "confusion_matrix(y_te,ypred)"
      ],
      "metadata": {
        "colab": {
          "base_uri": "https://localhost:8080/"
        },
        "id": "N2MMEh6EG_KM",
        "outputId": "4c0534ca-ec80-4643-c9b7-62f917892358"
      },
      "execution_count": 21,
      "outputs": [
        {
          "output_type": "execute_result",
          "data": {
            "text/plain": [
              "array([[915,  95],\n",
              "       [ 95, 895]])"
            ]
          },
          "metadata": {},
          "execution_count": 21
        }
      ]
    },
    {
      "cell_type": "markdown",
      "source": [
        "As the above matrix returns in default format so:<br>\n",
        "1. TN = 915\n",
        "2. FP = 95\n",
        "3. FN = 95\n",
        "4. TP = 895"
      ],
      "metadata": {
        "id": "OoKASAYpHV4F"
      }
    },
    {
      "cell_type": "code",
      "source": [
        "# Plotting the confusion matrix without the sklearn built_in plot_confusion_matrix option\n",
        "sns.heatmap(confusion_matrix(y_te,ypred),annot = True)"
      ],
      "metadata": {
        "colab": {
          "base_uri": "https://localhost:8080/",
          "height": 282
        },
        "id": "8rvRwo_dG_G3",
        "outputId": "33bf85f2-0238-4106-c4e7-38b6ebc346ce"
      },
      "execution_count": 22,
      "outputs": [
        {
          "output_type": "execute_result",
          "data": {
            "text/plain": [
              "<matplotlib.axes._subplots.AxesSubplot at 0x7f04eda3a370>"
            ]
          },
          "metadata": {},
          "execution_count": 22
        },
        {
          "output_type": "display_data",
          "data": {
            "text/plain": [
              "<Figure size 432x288 with 2 Axes>"
            ],
            "image/png": "[encoded data removed]"
          },
          "metadata": {
            "needs_background": "light"
          }
        }
      ]
    },
    {
      "cell_type": "markdown",
      "source": [
        "**Plotting using the plot_confusion_matrix function**"
      ],
      "metadata": {
        "id": "GiLES3t2IP3e"
      }
    },
    {
      "cell_type": "code",
      "source": [
        "y_te.shape, ypred.shape"
      ],
      "metadata": {
        "colab": {
          "base_uri": "https://localhost:8080/"
        },
        "id": "QpXIC9dcI5UO",
        "outputId": "f814ce59-a57b-4b60-a055-3a6ad1efa17f"
      },
      "execution_count": 23,
      "outputs": [
        {
          "output_type": "execute_result",
          "data": {
            "text/plain": [
              "((2000,), (2000,))"
            ]
          },
          "metadata": {},
          "execution_count": 23
        }
      ]
    },
    {
      "cell_type": "markdown",
      "source": [
        "Plot_confusion_matrix accepts 3 parameter:<br>\n",
        "a. estimator\n",
        "b. Xtest\n",
        "c. ytest<br>\n",
        "Although this function have been depreceated"
      ],
      "metadata": {
        "id": "lyAwGJMyJT17"
      }
    },
    {
      "cell_type": "code",
      "source": [
        "plot_confusion_matrix(lr, X_te, y_te)"
      ],
      "metadata": {
        "colab": {
          "base_uri": "https://localhost:8080/",
          "height": 351
        },
        "id": "qNQnJNFdG_Eq",
        "outputId": "d5497a6c-4db5-444d-e61c-be4d41101595"
      },
      "execution_count": 24,
      "outputs": [
        {
          "output_type": "stream",
          "name": "stderr",
          "text": [
            "/usr/local/lib/python3.8/dist-packages/sklearn/utils/deprecation.py:87: FutureWarning: Function plot_confusion_matrix is deprecated; Function `plot_confusion_matrix` is deprecated in 1.0 and will be removed in 1.2. Use one of the class methods: ConfusionMatrixDisplay.from_predictions or ConfusionMatrixDisplay.from_estimator.\n",
            "  warnings.warn(msg, category=FutureWarning)\n"
          ]
        },
        {
          "output_type": "execute_result",
          "data": {
            "text/plain": [
              "<sklearn.metrics._plot.confusion_matrix.ConfusionMatrixDisplay at 0x7f04eda3a3a0>"
            ]
          },
          "metadata": {},
          "execution_count": 24
        },
        {
          "output_type": "display_data",
          "data": {
            "text/plain": [
              "<Figure size 432x288 with 2 Axes>"
            ],
            "image/png": "[encoded data removed]"
          },
          "metadata": {
            "needs_background": "light"
          }
        }
      ]
    },
    {
      "cell_type": "markdown",
      "source": [
        "**Plotting thorugh ConfusionMatrixDisplay**"
      ],
      "metadata": {
        "id": "G6BYe6ypL5Dw"
      }
    },
    {
      "cell_type": "code",
      "source": [
        "ConfusionMatrixDisplay(confusion_matrix(y_te,ypred))"
      ],
      "metadata": {
        "colab": {
          "base_uri": "https://localhost:8080/"
        },
        "id": "PCIeKezXLcwj",
        "outputId": "e5a401a6-902f-41e9-d204-a3ff03dd043b"
      },
      "execution_count": 25,
      "outputs": [
        {
          "output_type": "execute_result",
          "data": {
            "text/plain": [
              "<sklearn.metrics._plot.confusion_matrix.ConfusionMatrixDisplay at 0x7f04eb0c7970>"
            ]
          },
          "metadata": {},
          "execution_count": 25
        }
      ]
    },
    {
      "cell_type": "code",
      "source": [
        "disp =ConfusionMatrixDisplay(confusion_matrix(y_te,ypred))"
      ],
      "metadata": {
        "id": "aPtfxg7lLxms"
      },
      "execution_count": 26,
      "outputs": []
    },
    {
      "cell_type": "code",
      "source": [
        "disp.plot()"
      ],
      "metadata": {
        "colab": {
          "base_uri": "https://localhost:8080/",
          "height": 296
        },
        "id": "TrvZw-V4LxZK",
        "outputId": "8d5a37e3-7af9-495e-c08e-84818aa122ab"
      },
      "execution_count": 27,
      "outputs": [
        {
          "output_type": "execute_result",
          "data": {
            "text/plain": [
              "<sklearn.metrics._plot.confusion_matrix.ConfusionMatrixDisplay at 0x7f04eda226a0>"
            ]
          },
          "metadata": {},
          "execution_count": 27
        },
        {
          "output_type": "display_data",
          "data": {
            "text/plain": [
              "<Figure size 432x288 with 2 Axes>"
            ],
            "image/png": "[encoded data removed]"
          },
          "metadata": {
            "needs_background": "light"
          }
        }
      ]
    },
    {
      "cell_type": "markdown",
      "source": [
        "#### **Accuracy** "
      ],
      "metadata": {
        "id": "FQLUF2LFJ6n4"
      }
    },
    {
      "cell_type": "code",
      "source": [
        "# Confusion Matrix Data\n",
        "TN = 915\n",
        "FP = 95\n",
        "FN = 95\n",
        "TP = 895"
      ],
      "metadata": {
        "id": "t8_diQ84G8--"
      },
      "execution_count": 28,
      "outputs": []
    },
    {
      "cell_type": "code",
      "source": [
        "accuracy_score(y_te,ypred)"
      ],
      "metadata": {
        "colab": {
          "base_uri": "https://localhost:8080/"
        },
        "id": "dOZ_px93JyU-",
        "outputId": "74ae720f-09b1-454d-f347-682561edc5e6"
      },
      "execution_count": 29,
      "outputs": [
        {
          "output_type": "execute_result",
          "data": {
            "text/plain": [
              "0.905"
            ]
          },
          "metadata": {},
          "execution_count": 29
        }
      ]
    },
    {
      "cell_type": "code",
      "source": [
        "# Calculating accuracy score manually\n",
        "# accuracy = TP + TN/ TP+TN+FP+FN\n",
        "accuracy =(TP + TN)/ (TP+TN+FP+FN)\n",
        "print(accuracy)"
      ],
      "metadata": {
        "colab": {
          "base_uri": "https://localhost:8080/"
        },
        "id": "oxcqnCtIJyRb",
        "outputId": "aab45f5a-122d-4438-dcc7-28c19232c24f"
      },
      "execution_count": 30,
      "outputs": [
        {
          "output_type": "stream",
          "name": "stdout",
          "text": [
            "0.905\n"
          ]
        }
      ]
    },
    {
      "cell_type": "markdown",
      "source": [
        "#### **Precision** "
      ],
      "metadata": {
        "id": "ZeQ9KvCNLBc5"
      }
    },
    {
      "cell_type": "markdown",
      "source": [
        "**Precion = true Positive / Predicted positives = TP/TP+FP** <br>\n",
        "that is all the points that was declared as positive how many of those are actually positive."
      ],
      "metadata": {
        "id": "ieNyyW5fPZ7t"
      }
    },
    {
      "cell_type": "code",
      "source": [
        "precision = TP/(TP+FP)\n",
        "print(precision)"
      ],
      "metadata": {
        "colab": {
          "base_uri": "https://localhost:8080/"
        },
        "id": "aAhvF89jJyML",
        "outputId": "c5e138a7-181e-4f28-a087-d081326d2a59"
      },
      "execution_count": 31,
      "outputs": [
        {
          "output_type": "stream",
          "name": "stdout",
          "text": [
            "0.9040404040404041\n"
          ]
        }
      ]
    },
    {
      "cell_type": "code",
      "source": [
        "# using the function\n",
        "precision_score(y_te,ypred)"
      ],
      "metadata": {
        "colab": {
          "base_uri": "https://localhost:8080/"
        },
        "id": "rQ7ctT0OJyJ2",
        "outputId": "475c488e-4a64-426b-a265-8e20eb4563b5"
      },
      "execution_count": 32,
      "outputs": [
        {
          "output_type": "execute_result",
          "data": {
            "text/plain": [
              "0.9040404040404041"
            ]
          },
          "metadata": {},
          "execution_count": 32
        }
      ]
    },
    {
      "cell_type": "markdown",
      "source": [
        "#### **Recall**"
      ],
      "metadata": {
        "id": "V2ShEUWsP7Yb"
      }
    },
    {
      "cell_type": "markdown",
      "source": [
        "**recall = True Positive / Actual Positives = TP / (TP + FN)**<br>\n",
        "It is all the points which are actually positive how many those points were declared as True Positive."
      ],
      "metadata": {
        "id": "yjarD7aXQBIu"
      }
    },
    {
      "cell_type": "code",
      "source": [
        "recall = TP / (TP + FN)\n",
        "print(recall)"
      ],
      "metadata": {
        "colab": {
          "base_uri": "https://localhost:8080/"
        },
        "id": "GvwVVhCWJyHS",
        "outputId": "94d9a0db-d22e-4f36-9190-797bbd7e7685"
      },
      "execution_count": 33,
      "outputs": [
        {
          "output_type": "stream",
          "name": "stdout",
          "text": [
            "0.9040404040404041\n"
          ]
        }
      ]
    },
    {
      "cell_type": "code",
      "source": [
        "# using the function\n",
        "recall_score(y_te, ypred)"
      ],
      "metadata": {
        "colab": {
          "base_uri": "https://localhost:8080/"
        },
        "id": "vDwm5xckQSGK",
        "outputId": "14efe8fe-34b7-44e7-b692-fbf18aece08e"
      },
      "execution_count": 34,
      "outputs": [
        {
          "output_type": "execute_result",
          "data": {
            "text/plain": [
              "0.9040404040404041"
            ]
          },
          "metadata": {},
          "execution_count": 34
        }
      ]
    },
    {
      "cell_type": "markdown",
      "source": [
        "#### **F1-Score**"
      ],
      "metadata": {
        "id": "coBYR8IwR_q2"
      }
    },
    {
      "cell_type": "markdown",
      "source": [
        "1. It is the harmonic mean between precision and recall.<br>\n",
        "2. In case of binary classification it is calculated for entire dataset but in case of Mullticlass classification it is calculated for each classes.<br>\n",
        "3. **f1-score = 2 * (precision * recall)/(precision + recall )**\n",
        "4. Why do we need precision score ?<br>\n",
        "One reason the F1 score is useful is because it allows you to balance the precision and recall of a classifier. In some cases, you may want to prioritize precision, while in other cases, you may want to prioritize recall. The F1 score gives you a single metric that takes both precision and recall into account, which can be helpful when you want to compare different classifiers or tune the parameters of a classifier.\n",
        "\n",
        "Another reason the F1 score is useful is because it is not sensitive to imbalanced class distributions. For example, if you are trying to classify a rare event, such as fraud, you may have a very imbalanced dataset with a small number of positive examples and a large number of negative examples. In this case, simply optimizing for accuracy may not be the best approach, because even a classifier that always predicts the negative class will have high accuracy. In contrast, the F1 score will be lower for a classifier that always predicts the negative class, which makes it a more appropriate metric to use in this situation."
      ],
      "metadata": {
        "id": "ia3OCRDnSdFA"
      }
    },
    {
      "cell_type": "code",
      "source": [],
      "metadata": {
        "id": "wFTxOfuJQYoD"
      },
      "execution_count": 34,
      "outputs": []
    },
    {
      "cell_type": "code",
      "source": [
        "f1_score  = 2*(precision * recall)/(precision + recall)\n",
        "print(f1_score)"
      ],
      "metadata": {
        "colab": {
          "base_uri": "https://localhost:8080/"
        },
        "id": "gTK69HkQScGK",
        "outputId": "87c7bdaf-e082-42d5-87a9-f56e6bcb99ae"
      },
      "execution_count": 35,
      "outputs": [
        {
          "output_type": "stream",
          "name": "stdout",
          "text": [
            "0.9040404040404041\n"
          ]
        }
      ]
    },
    {
      "cell_type": "code",
      "source": [
        "from sklearn.metrics import f1_score,classification_report"
      ],
      "metadata": {
        "id": "pUg4rCU2ScDV"
      },
      "execution_count": 36,
      "outputs": []
    },
    {
      "cell_type": "code",
      "source": [
        "f1_score(y_te,ypred)"
      ],
      "metadata": {
        "colab": {
          "base_uri": "https://localhost:8080/"
        },
        "id": "1N2_RazaTlr5",
        "outputId": "2538657d-4c42-42c2-8ea1-ef684d9885bf"
      },
      "execution_count": 37,
      "outputs": [
        {
          "output_type": "execute_result",
          "data": {
            "text/plain": [
              "0.9040404040404041"
            ]
          },
          "metadata": {},
          "execution_count": 37
        }
      ]
    },
    {
      "cell_type": "markdown",
      "source": [
        "#### **Classification Report** "
      ],
      "metadata": {
        "id": "T8C6hjwPTucE"
      }
    },
    {
      "cell_type": "code",
      "source": [
        "a = classification_report(y_te,ypred)"
      ],
      "metadata": {
        "id": "sUBAvi_mTolT"
      },
      "execution_count": 38,
      "outputs": []
    },
    {
      "cell_type": "code",
      "source": [
        "print(a)"
      ],
      "metadata": {
        "colab": {
          "base_uri": "https://localhost:8080/"
        },
        "id": "eak38I-xT234",
        "outputId": "a9dddb97-dbba-4c21-9678-d8ef778bba0c"
      },
      "execution_count": 39,
      "outputs": [
        {
          "output_type": "stream",
          "name": "stdout",
          "text": [
            "              precision    recall  f1-score   support\n",
            "\n",
            "           0       0.91      0.91      0.91      1010\n",
            "           1       0.90      0.90      0.90       990\n",
            "\n",
            "    accuracy                           0.91      2000\n",
            "   macro avg       0.90      0.90      0.90      2000\n",
            "weighted avg       0.91      0.91      0.91      2000\n",
            "\n"
          ]
        }
      ]
    },
    {
      "cell_type": "markdown",
      "source": [
        "#### **AUC-ROC** "
      ],
      "metadata": {
        "id": "eXzFjhdTXQSb"
      }
    },
    {
      "cell_type": "code",
      "source": [
        "# roc_auc_score\n",
        "# precision_recall_curve,,roc_auc_score,auc"
      ],
      "metadata": {
        "id": "JH3glzK0UU21"
      },
      "execution_count": 40,
      "outputs": []
    },
    {
      "cell_type": "markdown",
      "source": [
        "**For getting the auc score i.e. Area Under Curve**"
      ],
      "metadata": {
        "id": "JkrYGnzDaXI4"
      }
    },
    {
      "cell_type": "markdown",
      "source": [
        "roc_auc_score(y_true, y_score, *, average='macro', sample_weight=None, max_fpr=None, multi_class='raise', labels=None)<br>\n",
        "returns auc :float\n",
        "Area Under the Curve score"
      ],
      "metadata": {
        "id": "wmcgU0QTZwX1"
      }
    },
    {
      "cell_type": "code",
      "source": [
        "# getting the auc score\n",
        "areaundercurve= roc_auc_score(y_te,ypred)\n",
        "print(areaundercurve)"
      ],
      "metadata": {
        "colab": {
          "base_uri": "https://localhost:8080/"
        },
        "id": "S7CR8pO6ZZug",
        "outputId": "cc584883-9aa0-4137-ef76-3a7cbd5af1ab"
      },
      "execution_count": 83,
      "outputs": [
        {
          "output_type": "stream",
          "name": "stdout",
          "text": [
            "0.904990499049905\n"
          ]
        }
      ]
    },
    {
      "cell_type": "markdown",
      "source": [
        "**ROC curve** "
      ],
      "metadata": {
        "id": "aMlwiuFcbDU2"
      }
    },
    {
      "cell_type": "markdown",
      "source": [
        "sklearn.metrics.roc_curve(y_true, y_score, *, pos_label=None, sample_weight=None, drop_intermediate=True)<br>\n",
        "<br>\n",
        "returns:<br>\n",
        "fpr : ndarray of shape (>2,)\n",
        "Increasing false positive rates such that element i is the false positive rate of predictions with score >= thresholds[i].\n",
        "\n",
        "tpr : ndarray of shape (>2,)\n",
        "Increasing true positive rates such that element i is the true positive rate of predictions with score >= thresholds[i].\n",
        "\n",
        "thresholds : ndarray of shape = (n_thresholds,)\n",
        "Decreasing thresholds on the decision function used to compute fpr and tpr. thresholds[0] represents no instances being predicted and is arbitrarily set to max(y_score) + 1.\n"
      ],
      "metadata": {
        "id": "ipTiuL1Xasaz"
      }
    },
    {
      "cell_type": "code",
      "source": [
        "from sklearn.metrics import roc_curve\n",
        "fpr,tpr, threshold = roc_curve(y_te,ypred)"
      ],
      "metadata": {
        "id": "5Fnu5YuxZZro"
      },
      "execution_count": 42,
      "outputs": []
    },
    {
      "cell_type": "markdown",
      "source": [
        "**IN the yscore argument of roc_curve we have passed 'ypred' as the argument but that's the wrong argument to pass as we can see that we get only three(3) threshold but it should be more so when we pass positive class value from predict_proba then we get the required threshold<br>\n",
        "as per documentation:<br>\n",
        "y_score ndarray of shape (n_samples,)\n",
        "Target scores, can either be probability estimates of the positive class, confidence values, or non-thresholded measure of decisions (as returned by “decision_function” on some classifiers)**"
      ],
      "metadata": {
        "id": "aGGO5ZQgrNh7"
      }
    },
    {
      "cell_type": "code",
      "source": [
        "# Converting the values of fpr,tpr and threshold in dataframe\n",
        "d = { 'fpr': fpr,\n",
        "     'tpr':tpr,\n",
        "     'threshold':threshold}\n",
        "df = pd.DataFrame(d)"
      ],
      "metadata": {
        "id": "XVG4GMDQZZo8"
      },
      "execution_count": 43,
      "outputs": []
    },
    {
      "cell_type": "code",
      "source": [
        "df"
      ],
      "metadata": {
        "colab": {
          "base_uri": "https://localhost:8080/",
          "height": 143
        },
        "id": "bQ7h4qKrbqdi",
        "outputId": "5d8bda1f-89eb-4c32-e51b-83ed57e3665f"
      },
      "execution_count": 44,
      "outputs": [
        {
          "output_type": "execute_result",
          "data": {
            "text/plain": [
              "        fpr      tpr  threshold\n",
              "0  0.000000  0.00000          2\n",
              "1  0.094059  0.90404          1\n",
              "2  1.000000  1.00000          0"
            ],
            "text/html": [
              "\n",
              "  <div id=\"df-fc9c02dd-f777-4e50-ba56-5d96fcfbb361\">\n",
              "    <div class=\"colab-df-container\">\n",
              "      <div>\n",
              "<style scoped>\n",
              "    .dataframe tbody tr th:only-of-type {\n",
              "        vertical-align: middle;\n",
              "    }\n",
              "\n",
              "    .dataframe tbody tr th {\n",
              "        vertical-align: top;\n",
              "    }\n",
              "\n",
              "    .dataframe thead th {\n",
              "        text-align: right;\n",
              "    }\n",
              "</style>\n",
              "<table border=\"1\" class=\"dataframe\">\n",
              "  <thead>\n",
              "    <tr style=\"text-align: right;\">\n",
              "      <th></th>\n",
              "      <th>fpr</th>\n",
              "      <th>tpr</th>\n",
              "      <th>threshold</th>\n",
              "    </tr>\n",
              "  </thead>\n",
              "  <tbody>\n",
              "    <tr>\n",
              "      <th>0</th>\n",
              "      <td>0.000000</td>\n",
              "      <td>0.00000</td>\n",
              "      <td>2</td>\n",
              "    </tr>\n",
              "    <tr>\n",
              "      <th>1</th>\n",
              "      <td>0.094059</td>\n",
              "      <td>0.90404</td>\n",
              "      <td>1</td>\n",
              "    </tr>\n",
              "    <tr>\n",
              "      <th>2</th>\n",
              "      <td>1.000000</td>\n",
              "      <td>1.00000</td>\n",
              "      <td>0</td>\n",
              "    </tr>\n",
              "  </tbody>\n",
              "</table>\n",
              "</div>\n",
              "      <button class=\"colab-df-convert\" onclick=\"convertToInteractive('df-fc9c02dd-f777-4e50-ba56-5d96fcfbb361')\"\n",
              "              title=\"Convert this dataframe to an interactive table.\"\n",
              "              style=\"display:none;\">\n",
              "        \n",
              "  <svg xmlns=\"http://www.w3.org/2000/svg\" height=\"24px\"viewBox=\"0 0 24 24\"\n",
              "       width=\"24px\">\n",
              "    <path d=\"M0 0h24v24H0V0z\" fill=\"none\"/>\n",
              "    <path d=\"M18.56 5.44l.94 2.06.94-2.06 2.06-.94-2.06-.94-.94-2.06-.94 2.06-2.06.94zm-11 1L8.5 8.5l.94-2.06 2.06-.94-2.06-.94L8.5 2.5l-.94 2.06-2.06.94zm10 10l.94 2.06.94-2.06 2.06-.94-2.06-.94-.94-2.06-.94 2.06-2.06.94z\"/><path d=\"M17.41 7.96l-1.37-1.37c-.4-.4-.92-.59-1.43-.59-.52 0-1.04.2-1.43.59L10.3 9.45l-7.72 7.72c-.78.78-.78 2.05 0 2.83L4 21.41c.39.39.9.59 1.41.59.51 0 1.02-.2 1.41-.59l7.78-7.78 2.81-2.81c.8-.78.8-2.07 0-2.86zM5.41 20L4 18.59l7.72-7.72 1.47 1.35L5.41 20z\"/>\n",
              "  </svg>\n",
              "      </button>\n",
              "      \n",
              "  <style>\n",
              "    .colab-df-container {\n",
              "      display:flex;\n",
              "      flex-wrap:wrap;\n",
              "      gap: 12px;\n",
              "    }\n",
              "\n",
              "    .colab-df-convert {\n",
              "      background-color: #E8F0FE;\n",
              "      border: none;\n",
              "      border-radius: 50%;\n",
              "      cursor: pointer;\n",
              "      display: none;\n",
              "      fill: #1967D2;\n",
              "      height: 32px;\n",
              "      padding: 0 0 0 0;\n",
              "      width: 32px;\n",
              "    }\n",
              "\n",
              "    .colab-df-convert:hover {\n",
              "      background-color: #E2EBFA;\n",
              "      box-shadow: 0px 1px 2px rgba(60, 64, 67, 0.3), 0px 1px 3px 1px rgba(60, 64, 67, 0.15);\n",
              "      fill: #174EA6;\n",
              "    }\n",
              "\n",
              "    [theme=dark] .colab-df-convert {\n",
              "      background-color: #3B4455;\n",
              "      fill: #D2E3FC;\n",
              "    }\n",
              "\n",
              "    [theme=dark] .colab-df-convert:hover {\n",
              "      background-color: #434B5C;\n",
              "      box-shadow: 0px 1px 3px 1px rgba(0, 0, 0, 0.15);\n",
              "      filter: drop-shadow(0px 1px 2px rgba(0, 0, 0, 0.3));\n",
              "      fill: #FFFFFF;\n",
              "    }\n",
              "  </style>\n",
              "\n",
              "      <script>\n",
              "        const buttonEl =\n",
              "          document.querySelector('#df-fc9c02dd-f777-4e50-ba56-5d96fcfbb361 button.colab-df-convert');\n",
              "        buttonEl.style.display =\n",
              "          google.colab.kernel.accessAllowed ? 'block' : 'none';\n",
              "\n",
              "        async function convertToInteractive(key) {\n",
              "          const element = document.querySelector('#df-fc9c02dd-f777-4e50-ba56-5d96fcfbb361');\n",
              "          const dataTable =\n",
              "            await google.colab.kernel.invokeFunction('convertToInteractive',\n",
              "                                                     [key], {});\n",
              "          if (!dataTable) return;\n",
              "\n",
              "          const docLinkHtml = 'Like what you see? Visit the ' +\n",
              "            '<a target=\"_blank\" href=https://colab.research.google.com/notebooks/data_table.ipynb>data table notebook</a>'\n",
              "            + ' to learn more about interactive tables.';\n",
              "          element.innerHTML = '';\n",
              "          dataTable['output_type'] = 'display_data';\n",
              "          await google.colab.output.renderOutput(dataTable, element);\n",
              "          const docLink = document.createElement('div');\n",
              "          docLink.innerHTML = docLinkHtml;\n",
              "          element.appendChild(docLink);\n",
              "        }\n",
              "      </script>\n",
              "    </div>\n",
              "  </div>\n",
              "  "
            ]
          },
          "metadata": {},
          "execution_count": 44
        }
      ]
    },
    {
      "cell_type": "code",
      "source": [
        "threshold"
      ],
      "metadata": {
        "colab": {
          "base_uri": "https://localhost:8080/"
        },
        "id": "LOkK36jScAkT",
        "outputId": "f9b26124-ed56-435f-a81c-3aeea5b4e6c0"
      },
      "execution_count": 45,
      "outputs": [
        {
          "output_type": "execute_result",
          "data": {
            "text/plain": [
              "array([2, 1, 0])"
            ]
          },
          "metadata": {},
          "execution_count": 45
        }
      ]
    },
    {
      "cell_type": "code",
      "source": [
        "fpr,tpr, threshold = roc_curve(y_te,yprob[:,1])"
      ],
      "metadata": {
        "id": "i-tTySwrcJF-"
      },
      "execution_count": 46,
      "outputs": []
    },
    {
      "cell_type": "code",
      "source": [
        "threshold[:10]"
      ],
      "metadata": {
        "id": "aNSjgj1pcjWF",
        "outputId": "da7fdce5-ab54-4990-dfc2-b33781c9156d",
        "colab": {
          "base_uri": "https://localhost:8080/"
        }
      },
      "execution_count": 48,
      "outputs": [
        {
          "output_type": "execute_result",
          "data": {
            "text/plain": [
              "array([1.99999809, 0.99999809, 0.99798233, 0.99796077, 0.99664025,\n",
              "       0.99663176, 0.98440244, 0.98430734, 0.97562261, 0.97528996])"
            ]
          },
          "metadata": {},
          "execution_count": 48
        }
      ]
    },
    {
      "cell_type": "markdown",
      "source": [
        "creating the df for the fpr,tpr and threshold"
      ],
      "metadata": {
        "id": "zG11G1VbsLxO"
      }
    },
    {
      "cell_type": "code",
      "source": [
        "d = { 'fpr': fpr,\n",
        "     'tpr':tpr,\n",
        "     'threshold':threshold}\n",
        "df = pd.DataFrame(d)"
      ],
      "metadata": {
        "id": "YeJ5Bk5Ackd5"
      },
      "execution_count": 49,
      "outputs": []
    },
    {
      "cell_type": "code",
      "source": [
        "df"
      ],
      "metadata": {
        "colab": {
          "base_uri": "https://localhost:8080/",
          "height": 424
        },
        "id": "DcKJRHC0sTt9",
        "outputId": "69ed5779-8430-476d-ba6a-213b1a70d123"
      },
      "execution_count": 50,
      "outputs": [
        {
          "output_type": "execute_result",
          "data": {
            "text/plain": [
              "          fpr       tpr  threshold\n",
              "0    0.000000  0.000000   1.999998\n",
              "1    0.000000  0.001010   0.999998\n",
              "2    0.000000  0.144444   0.997982\n",
              "3    0.000990  0.144444   0.997961\n",
              "4    0.000990  0.183838   0.996640\n",
              "..        ...       ...        ...\n",
              "285  0.958416  0.997980   0.001764\n",
              "286  0.958416  0.998990   0.001753\n",
              "287  0.963366  0.998990   0.001639\n",
              "288  0.963366  1.000000   0.001601\n",
              "289  1.000000  1.000000   0.000113\n",
              "\n",
              "[290 rows x 3 columns]"
            ],
            "text/html": [
              "\n",
              "  <div id=\"df-b9f6c13a-e7df-4909-ae91-bbe7e6f72f68\">\n",
              "    <div class=\"colab-df-container\">\n",
              "      <div>\n",
              "<style scoped>\n",
              "    .dataframe tbody tr th:only-of-type {\n",
              "        vertical-align: middle;\n",
              "    }\n",
              "\n",
              "    .dataframe tbody tr th {\n",
              "        vertical-align: top;\n",
              "    }\n",
              "\n",
              "    .dataframe thead th {\n",
              "        text-align: right;\n",
              "    }\n",
              "</style>\n",
              "<table border=\"1\" class=\"dataframe\">\n",
              "  <thead>\n",
              "    <tr style=\"text-align: right;\">\n",
              "      <th></th>\n",
              "      <th>fpr</th>\n",
              "      <th>tpr</th>\n",
              "      <th>threshold</th>\n",
              "    </tr>\n",
              "  </thead>\n",
              "  <tbody>\n",
              "    <tr>\n",
              "      <th>0</th>\n",
              "      <td>0.000000</td>\n",
              "      <td>0.000000</td>\n",
              "      <td>1.999998</td>\n",
              "    </tr>\n",
              "    <tr>\n",
              "      <th>1</th>\n",
              "      <td>0.000000</td>\n",
              "      <td>0.001010</td>\n",
              "      <td>0.999998</td>\n",
              "    </tr>\n",
              "    <tr>\n",
              "      <th>2</th>\n",
              "      <td>0.000000</td>\n",
              "      <td>0.144444</td>\n",
              "      <td>0.997982</td>\n",
              "    </tr>\n",
              "    <tr>\n",
              "      <th>3</th>\n",
              "      <td>0.000990</td>\n",
              "      <td>0.144444</td>\n",
              "      <td>0.997961</td>\n",
              "    </tr>\n",
              "    <tr>\n",
              "      <th>4</th>\n",
              "      <td>0.000990</td>\n",
              "      <td>0.183838</td>\n",
              "      <td>0.996640</td>\n",
              "    </tr>\n",
              "    <tr>\n",
              "      <th>...</th>\n",
              "      <td>...</td>\n",
              "      <td>...</td>\n",
              "      <td>...</td>\n",
              "    </tr>\n",
              "    <tr>\n",
              "      <th>285</th>\n",
              "      <td>0.958416</td>\n",
              "      <td>0.997980</td>\n",
              "      <td>0.001764</td>\n",
              "    </tr>\n",
              "    <tr>\n",
              "      <th>286</th>\n",
              "      <td>0.958416</td>\n",
              "      <td>0.998990</td>\n",
              "      <td>0.001753</td>\n",
              "    </tr>\n",
              "    <tr>\n",
              "      <th>287</th>\n",
              "      <td>0.963366</td>\n",
              "      <td>0.998990</td>\n",
              "      <td>0.001639</td>\n",
              "    </tr>\n",
              "    <tr>\n",
              "      <th>288</th>\n",
              "      <td>0.963366</td>\n",
              "      <td>1.000000</td>\n",
              "      <td>0.001601</td>\n",
              "    </tr>\n",
              "    <tr>\n",
              "      <th>289</th>\n",
              "      <td>1.000000</td>\n",
              "      <td>1.000000</td>\n",
              "      <td>0.000113</td>\n",
              "    </tr>\n",
              "  </tbody>\n",
              "</table>\n",
              "<p>290 rows × 3 columns</p>\n",
              "</div>\n",
              "      <button class=\"colab-df-convert\" onclick=\"convertToInteractive('df-b9f6c13a-e7df-4909-ae91-bbe7e6f72f68')\"\n",
              "              title=\"Convert this dataframe to an interactive table.\"\n",
              "              style=\"display:none;\">\n",
              "        \n",
              "  <svg xmlns=\"http://www.w3.org/2000/svg\" height=\"24px\"viewBox=\"0 0 24 24\"\n",
              "       width=\"24px\">\n",
              "    <path d=\"M0 0h24v24H0V0z\" fill=\"none\"/>\n",
              "    <path d=\"M18.56 5.44l.94 2.06.94-2.06 2.06-.94-2.06-.94-.94-2.06-.94 2.06-2.06.94zm-11 1L8.5 8.5l.94-2.06 2.06-.94-2.06-.94L8.5 2.5l-.94 2.06-2.06.94zm10 10l.94 2.06.94-2.06 2.06-.94-2.06-.94-.94-2.06-.94 2.06-2.06.94z\"/><path d=\"M17.41 7.96l-1.37-1.37c-.4-.4-.92-.59-1.43-.59-.52 0-1.04.2-1.43.59L10.3 9.45l-7.72 7.72c-.78.78-.78 2.05 0 2.83L4 21.41c.39.39.9.59 1.41.59.51 0 1.02-.2 1.41-.59l7.78-7.78 2.81-2.81c.8-.78.8-2.07 0-2.86zM5.41 20L4 18.59l7.72-7.72 1.47 1.35L5.41 20z\"/>\n",
              "  </svg>\n",
              "      </button>\n",
              "      \n",
              "  <style>\n",
              "    .colab-df-container {\n",
              "      display:flex;\n",
              "      flex-wrap:wrap;\n",
              "      gap: 12px;\n",
              "    }\n",
              "\n",
              "    .colab-df-convert {\n",
              "      background-color: #E8F0FE;\n",
              "      border: none;\n",
              "      border-radius: 50%;\n",
              "      cursor: pointer;\n",
              "      display: none;\n",
              "      fill: #1967D2;\n",
              "      height: 32px;\n",
              "      padding: 0 0 0 0;\n",
              "      width: 32px;\n",
              "    }\n",
              "\n",
              "    .colab-df-convert:hover {\n",
              "      background-color: #E2EBFA;\n",
              "      box-shadow: 0px 1px 2px rgba(60, 64, 67, 0.3), 0px 1px 3px 1px rgba(60, 64, 67, 0.15);\n",
              "      fill: #174EA6;\n",
              "    }\n",
              "\n",
              "    [theme=dark] .colab-df-convert {\n",
              "      background-color: #3B4455;\n",
              "      fill: #D2E3FC;\n",
              "    }\n",
              "\n",
              "    [theme=dark] .colab-df-convert:hover {\n",
              "      background-color: #434B5C;\n",
              "      box-shadow: 0px 1px 3px 1px rgba(0, 0, 0, 0.15);\n",
              "      filter: drop-shadow(0px 1px 2px rgba(0, 0, 0, 0.3));\n",
              "      fill: #FFFFFF;\n",
              "    }\n",
              "  </style>\n",
              "\n",
              "      <script>\n",
              "        const buttonEl =\n",
              "          document.querySelector('#df-b9f6c13a-e7df-4909-ae91-bbe7e6f72f68 button.colab-df-convert');\n",
              "        buttonEl.style.display =\n",
              "          google.colab.kernel.accessAllowed ? 'block' : 'none';\n",
              "\n",
              "        async function convertToInteractive(key) {\n",
              "          const element = document.querySelector('#df-b9f6c13a-e7df-4909-ae91-bbe7e6f72f68');\n",
              "          const dataTable =\n",
              "            await google.colab.kernel.invokeFunction('convertToInteractive',\n",
              "                                                     [key], {});\n",
              "          if (!dataTable) return;\n",
              "\n",
              "          const docLinkHtml = 'Like what you see? Visit the ' +\n",
              "            '<a target=\"_blank\" href=https://colab.research.google.com/notebooks/data_table.ipynb>data table notebook</a>'\n",
              "            + ' to learn more about interactive tables.';\n",
              "          element.innerHTML = '';\n",
              "          dataTable['output_type'] = 'display_data';\n",
              "          await google.colab.output.renderOutput(dataTable, element);\n",
              "          const docLink = document.createElement('div');\n",
              "          docLink.innerHTML = docLinkHtml;\n",
              "          element.appendChild(docLink);\n",
              "        }\n",
              "      </script>\n",
              "    </div>\n",
              "  </div>\n",
              "  "
            ]
          },
          "metadata": {},
          "execution_count": 50
        }
      ]
    },
    {
      "cell_type": "code",
      "source": [
        "# plottinig the graph \n",
        "plt.plot(fpr,tpr,label='LogisticRegression')\n",
        "\n",
        "# roc curve for tpr = fpr \n",
        "random_probs = [0 for i in range(len(y_te))]\n",
        "p_fpr, p_tpr, _ = roc_curve(y_te, random_probs, pos_label=1)\n",
        "plt.plot(p_fpr,p_tpr)"
      ],
      "metadata": {
        "colab": {
          "base_uri": "https://localhost:8080/",
          "height": 282
        },
        "id": "jWktcj_2sUPG",
        "outputId": "c583c8ab-674d-4b33-864f-2bed9456bcaa"
      },
      "execution_count": 78,
      "outputs": [
        {
          "output_type": "execute_result",
          "data": {
            "text/plain": [
              "[<matplotlib.lines.Line2D at 0x7f04e96024f0>]"
            ]
          },
          "metadata": {},
          "execution_count": 78
        },
        {
          "output_type": "display_data",
          "data": {
            "text/plain": [
              "<Figure size 432x288 with 1 Axes>"
            ],
            "image/png": "[encoded data removed]"
          },
          "metadata": {
            "needs_background": "light"
          }
        }
      ]
    },
    {
      "cell_type": "code",
      "source": [
        "n_thresholds = len(np.unique(yprob[:,1])) + 1\n",
        "print(n_thresholds)"
      ],
      "metadata": {
        "colab": {
          "base_uri": "https://localhost:8080/"
        },
        "id": "-AdUOIWE0G2C",
        "outputId": "2cb18e70-2d70-464e-f778-d8079b5c96f0"
      },
      "execution_count": 76,
      "outputs": [
        {
          "output_type": "stream",
          "name": "stdout",
          "text": [
            "2001\n"
          ]
        }
      ]
    },
    {
      "cell_type": "code",
      "source": [
        "from sklearn.metrics._plot.roc_curve import plot_roc_curve\n",
        "# Plotting the curve using the plot_roc_curve\n",
        "plot_roc_curve(lr,X_te,y_te)"
      ],
      "metadata": {
        "colab": {
          "base_uri": "https://localhost:8080/",
          "height": 351
        },
        "id": "gCSWdRAj6foP",
        "outputId": "92454da4-3cae-4c61-dafc-b35555bffbfa"
      },
      "execution_count": 77,
      "outputs": [
        {
          "output_type": "stream",
          "name": "stderr",
          "text": [
            "/usr/local/lib/python3.8/dist-packages/sklearn/utils/deprecation.py:87: FutureWarning: Function plot_roc_curve is deprecated; Function :func:`plot_roc_curve` is deprecated in 1.0 and will be removed in 1.2. Use one of the class methods: :meth:`sklearn.metric.RocCurveDisplay.from_predictions` or :meth:`sklearn.metric.RocCurveDisplay.from_estimator`.\n",
            "  warnings.warn(msg, category=FutureWarning)\n"
          ]
        },
        {
          "output_type": "execute_result",
          "data": {
            "text/plain": [
              "<sklearn.metrics._plot.roc_curve.RocCurveDisplay at 0x7f04e96e6880>"
            ]
          },
          "metadata": {},
          "execution_count": 77
        },
        {
          "output_type": "display_data",
          "data": {
            "text/plain": [
              "<Figure size 432x288 with 1 Axes>"
            ],
            "image/png": "[encoded data removed]"
          },
          "metadata": {
            "needs_background": "light"
          }
        }
      ]
    },
    {
      "cell_type": "code",
      "source": [],
      "metadata": {
        "id": "fCWzUXy-6o5N"
      },
      "execution_count": null,
      "outputs": []
    }
  ]
}
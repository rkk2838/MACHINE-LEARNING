{
  "nbformat": 4,
  "nbformat_minor": 0,
  "metadata": {
    "colab": {
      "provenance": []
    },
    "kernelspec": {
      "name": "python3",
      "display_name": "Python 3"
    },
    "language_info": {
      "name": "python"
    }
  },
  "cells": [
    {
      "cell_type": "markdown",
      "source": [
        "# Implementing Logistic regression from scratch without Scikit learn"
      ],
      "metadata": {
        "id": "nL5mmuxy71vr"
      }
    },
    {
      "cell_type": "code",
      "source": [
        "import numpy as np\n",
        "import matplotlib.pyplot as plt"
      ],
      "metadata": {
        "id": "SAQHOF-NafwT"
      },
      "execution_count": 1,
      "outputs": []
    },
    {
      "cell_type": "code",
      "source": [
        "  def sigmoid(z):\n",
        "    return 1/(1+np.exp(-z))"
      ],
      "metadata": {
        "id": "j0wZvxHbbbzk"
      },
      "execution_count": 50,
      "outputs": []
    },
    {
      "cell_type": "code",
      "source": [
        "class LogisticRegression:\n",
        "\n",
        "  def __init__(self,lr=0.001,n_iterations=1000):\n",
        "    self.lr = lr\n",
        "    self.n_iterations = n_iterations\n",
        "    self.weights = None\n",
        "    self.bias = None\n",
        "\n",
        "\n",
        "\n",
        "  def fit(self,X_train,y_train):\n",
        "    n_samples,n_features = X.shape\n",
        "    self.weights = np.zeros(n_features)\n",
        "    self.bias = 0\n",
        "\n",
        "    for _ in range(self.n_iterations):\n",
        "      linear_prediction = np.dot(X,self.weights) + self.bias\n",
        "      prediction = sigmoid(linear_prediction)\n",
        "\n",
        "\n",
        "      dw = 1/(n_samples) * np.dot(X.T,(prediction - y))\n",
        "      db = 1/(n_samples) * np.sum(prediction-y)\n",
        "\n",
        "      self.weights  = self.weights - (self.lr * dw)\n",
        "      self.bias = self.bias - (self.lr * db)\n",
        "\n",
        "\n",
        "  def predict(self,X):\n",
        "      linear_prediction = np.dot(X,self.weights) + self.bias\n",
        "      prediction = sigmoid(linear_prediction)\n",
        "\n",
        "      yhat = [0 if i<=0.5 else 1 for i in prediction]\n",
        "      return yhat\n"
      ],
      "metadata": {
        "id": "aWaOE3TB7_s3"
      },
      "execution_count": 53,
      "outputs": []
    },
    {
      "cell_type": "code",
      "source": [
        "def accuracy(y_pred,y_test):\n",
        "  accuracy_rate = round((np.sum(y_pred==y_test)/len(y_test))*100,4)\n",
        "  print(accuracy_rate)"
      ],
      "metadata": {
        "id": "MKTnC_4elLDv"
      },
      "execution_count": 60,
      "outputs": []
    },
    {
      "cell_type": "code",
      "source": [
        "clf = LogisticRegression()"
      ],
      "metadata": {
        "id": "ArOjjVilg4ar"
      },
      "execution_count": 55,
      "outputs": []
    },
    {
      "cell_type": "code",
      "source": [
        "from sklearn.model_selection import train_test_split\n",
        "from sklearn import datasets"
      ],
      "metadata": {
        "id": "ot-zEQG7g4X7"
      },
      "execution_count": 26,
      "outputs": []
    },
    {
      "cell_type": "code",
      "source": [
        "bc = datasets.load_breast_cancer()"
      ],
      "metadata": {
        "id": "JYnoJfz3g4Vq"
      },
      "execution_count": 27,
      "outputs": []
    },
    {
      "cell_type": "code",
      "source": [
        "X,y = bc.data,bc.target"
      ],
      "metadata": {
        "id": "hm5ZDbfpigZc"
      },
      "execution_count": 28,
      "outputs": []
    },
    {
      "cell_type": "code",
      "source": [
        "# 30 numeric features\n",
        "X[0]"
      ],
      "metadata": {
        "colab": {
          "base_uri": "https://localhost:8080/"
        },
        "id": "-Jv-Cvrtilrn",
        "outputId": "b8ae19d9-2bd7-4f8c-ccd8-1dea75ebf373"
      },
      "execution_count": 33,
      "outputs": [
        {
          "output_type": "execute_result",
          "data": {
            "text/plain": [
              "array([1.799e+01, 1.038e+01, 1.228e+02, 1.001e+03, 1.184e-01, 2.776e-01,\n",
              "       3.001e-01, 1.471e-01, 2.419e-01, 7.871e-02, 1.095e+00, 9.053e-01,\n",
              "       8.589e+00, 1.534e+02, 6.399e-03, 4.904e-02, 5.373e-02, 1.587e-02,\n",
              "       3.003e-02, 6.193e-03, 2.538e+01, 1.733e+01, 1.846e+02, 2.019e+03,\n",
              "       1.622e-01, 6.656e-01, 7.119e-01, 2.654e-01, 4.601e-01, 1.189e-01])"
            ]
          },
          "metadata": {},
          "execution_count": 33
        }
      ]
    },
    {
      "cell_type": "code",
      "source": [
        "X.shape"
      ],
      "metadata": {
        "colab": {
          "base_uri": "https://localhost:8080/"
        },
        "id": "R0xAJJvqimsH",
        "outputId": "30b92b2d-73c9-4627-a6e5-1dc85b39a07a"
      },
      "execution_count": 34,
      "outputs": [
        {
          "output_type": "execute_result",
          "data": {
            "text/plain": [
              "(569, 30)"
            ]
          },
          "metadata": {},
          "execution_count": 34
        }
      ]
    },
    {
      "cell_type": "code",
      "source": [
        "y.shape"
      ],
      "metadata": {
        "colab": {
          "base_uri": "https://localhost:8080/"
        },
        "id": "1bwSAH6ri5Nk",
        "outputId": "133bf4d2-5ecd-4ed0-9f04-51407cf813ef"
      },
      "execution_count": 36,
      "outputs": [
        {
          "output_type": "execute_result",
          "data": {
            "text/plain": [
              "(569,)"
            ]
          },
          "metadata": {},
          "execution_count": 36
        }
      ]
    },
    {
      "cell_type": "code",
      "source": [
        "# \n",
        "X_train,X_test,y_train,y_test = train_test_split(X,y,test_size = 0.2,random_state =23)"
      ],
      "metadata": {
        "id": "TpLldXyEjJ0-"
      },
      "execution_count": 56,
      "outputs": []
    },
    {
      "cell_type": "code",
      "source": [
        "clf.fit(X_train,y_train)"
      ],
      "metadata": {
        "colab": {
          "base_uri": "https://localhost:8080/"
        },
        "id": "lrrSoB45ll6X",
        "outputId": "9336a95c-6f8f-4028-84bc-e3bf06cd3525"
      },
      "execution_count": 57,
      "outputs": [
        {
          "output_type": "stream",
          "name": "stderr",
          "text": [
            "<ipython-input-50-36c2be795127>:2: RuntimeWarning: overflow encountered in exp\n",
            "  return 1/(1+np.exp(-z))\n"
          ]
        }
      ]
    },
    {
      "cell_type": "code",
      "source": [
        "ypred = clf.predict(X_test)"
      ],
      "metadata": {
        "colab": {
          "base_uri": "https://localhost:8080/"
        },
        "id": "ymyh0g8LlosL",
        "outputId": "2842b739-16e6-4d30-a771-2a8f28fe00e8"
      },
      "execution_count": 58,
      "outputs": [
        {
          "output_type": "stream",
          "name": "stderr",
          "text": [
            "<ipython-input-50-36c2be795127>:2: RuntimeWarning: overflow encountered in exp\n",
            "  return 1/(1+np.exp(-z))\n"
          ]
        }
      ]
    },
    {
      "cell_type": "code",
      "source": [
        "accuracy(ypred,y_test)"
      ],
      "metadata": {
        "colab": {
          "base_uri": "https://localhost:8080/"
        },
        "id": "1G8VHWS0mVSU",
        "outputId": "06df7b6d-d64c-40a8-8a29-9d372a84860d"
      },
      "execution_count": 61,
      "outputs": [
        {
          "output_type": "stream",
          "name": "stdout",
          "text": [
            "94.7368\n"
          ]
        }
      ]
    },
    {
      "cell_type": "code",
      "source": [],
      "metadata": {
        "id": "_YGe8WgamkC_"
      },
      "execution_count": null,
      "outputs": []
    },
    {
      "cell_type": "code",
      "source": [
        "clf2 = LogisticRegression(lr = 0.01,n_iterations=100)\n",
        "clf2.fit(X_train,y_train)\n",
        "ypred = clf2.predict(X_test)\n",
        "accuracy(ypred,y_test)"
      ],
      "metadata": {
        "colab": {
          "base_uri": "https://localhost:8080/"
        },
        "id": "O2Unt9WFm4IK",
        "outputId": "e2f6361c-ebc5-43ad-ac2e-2575419ad759"
      },
      "execution_count": 64,
      "outputs": [
        {
          "output_type": "stream",
          "name": "stdout",
          "text": [
            "34.2105\n"
          ]
        },
        {
          "output_type": "stream",
          "name": "stderr",
          "text": [
            "<ipython-input-50-36c2be795127>:2: RuntimeWarning: overflow encountered in exp\n",
            "  return 1/(1+np.exp(-z))\n"
          ]
        }
      ]
    },
    {
      "cell_type": "code",
      "source": [
        "clf3 = LogisticRegression(lr = 0.001,n_iterations=100)\n",
        "clf3.fit(X_train,y_train)\n",
        "ypred = clf3.predict(X_test)\n",
        "accuracy(ypred,y_test)"
      ],
      "metadata": {
        "colab": {
          "base_uri": "https://localhost:8080/"
        },
        "id": "_7WHk-fNnSt1",
        "outputId": "50039233-5bf0-4d0c-ebe9-27cfa46993d3"
      },
      "execution_count": 65,
      "outputs": [
        {
          "output_type": "stream",
          "name": "stdout",
          "text": [
            "73.6842\n"
          ]
        },
        {
          "output_type": "stream",
          "name": "stderr",
          "text": [
            "<ipython-input-50-36c2be795127>:2: RuntimeWarning: overflow encountered in exp\n",
            "  return 1/(1+np.exp(-z))\n"
          ]
        }
      ]
    },
    {
      "cell_type": "code",
      "source": [
        "clf4 = LogisticRegression(lr = 0.001,n_iterations=100000)\n",
        "clf4.fit(X_train,y_train)\n",
        "ypred = clf4.predict(X_test)\n",
        "accuracy(ypred,y_test)"
      ],
      "metadata": {
        "colab": {
          "base_uri": "https://localhost:8080/"
        },
        "id": "FB1t9avCnXql",
        "outputId": "d856a6d6-62a9-4ee0-f0a7-f3e1aee54fb5"
      },
      "execution_count": 69,
      "outputs": [
        {
          "output_type": "stream",
          "name": "stderr",
          "text": [
            "<ipython-input-50-36c2be795127>:2: RuntimeWarning: overflow encountered in exp\n",
            "  return 1/(1+np.exp(-z))\n"
          ]
        },
        {
          "output_type": "stream",
          "name": "stdout",
          "text": [
            "91.2281\n"
          ]
        }
      ]
    },
    {
      "cell_type": "code",
      "source": [],
      "metadata": {
        "id": "a4LRUm9Bnl-E"
      },
      "execution_count": null,
      "outputs": []
    }
  ]
}